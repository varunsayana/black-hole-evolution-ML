{
 "cells": [
  {
   "cell_type": "code",
   "execution_count": 1,
   "id": "47efc480-f24a-46c7-9ed2-5fee504c2258",
   "metadata": {
    "tags": []
   },
   "outputs": [],
   "source": [
    "from pathlib import Path\n",
    "import json, numpy as np, pandas as pd, torch, torch.nn as nn\n",
    "from torch.utils.data import Dataset, DataLoader\n"
   ]
  },
  {
   "cell_type": "code",
   "execution_count": 2,
   "id": "f3108474-a56c-4263-8c0e-8049d77019a9",
   "metadata": {
    "tags": []
   },
   "outputs": [
    {
     "data": {
      "text/plain": [
       "<torch._C.Generator at 0x7f9060b59cb0>"
      ]
     },
     "execution_count": 2,
     "metadata": {},
     "output_type": "execute_result"
    }
   ],
   "source": [
    "CFG = {\"DATA_CSV\":\"../data/black_hole_evolution_tng100.csv\",\"FEATURES\":[\"bh_mass\",\"bh_acc\",\"stellar_mass\",\"sfr\",\"halo_mass\",\"vel_disp\"],\"HORIZONS\":[1,3,5],\"T_IN\":8,\"BATCH\":128,\"EPOCHS\":50,\"PATIENCE\":12,\"LR\":1e-3,\"FACTOR\":0.5,\"MIN_LR\":1.25e-4,\"HIDDEN\":128,\"LAYERS\":1,\"DROPOUT\":0.1}\n",
    "DEVICE = \"cuda\" if torch.cuda.is_available() else \"cpu\"\n",
    "np.random.seed(42); torch.manual_seed(42)\n"
   ]
  },
  {
   "cell_type": "code",
   "execution_count": 3,
   "id": "667c01f2-b237-4284-aaf5-ae90f31b6dff",
   "metadata": {
    "tags": []
   },
   "outputs": [],
   "source": [
    "df = pd.read_csv(CFG[\"DATA_CSV\"]).sort_values([\"subhalo_id\",\"snapshot\"]).reset_index(drop=True)\n",
    "FEATURES = CFG[\"FEATURES\"]\n"
   ]
  },
  {
   "cell_type": "code",
   "execution_count": 5,
   "id": "46ee36e4-01ab-4a43-b8bc-b7c4b1b67633",
   "metadata": {
    "tags": []
   },
   "outputs": [],
   "source": [
    "TRANSFORM = {\"bh_mass\":{\"type\":\"log10_floor\",\"floor\":1e-10},\"bh_acc\":{\"type\":\"log10_floor\",\"floor\":1e-12},\"stellar_mass\":{\"type\":None},\"sfr\":{\"type\":None},\"halo_mass\":{\"type\":None},\"vel_disp\":{\"type\":None}}\n",
    "def fwd_transform(x,name):\n",
    "    t=TRANSFORM[name][\"type\"]\n",
    "    if t==\"log10_floor\":\n",
    "        f=TRANSFORM[name][\"floor\"]\n",
    "        return np.log10(np.maximum(x,f))\n",
    "    return x\n",
    "def apply_forward(dfin):\n",
    "    d=dfin.copy()\n",
    "    for f in FEATURES:\n",
    "        d[f]=fwd_transform(d[f].values,f)\n",
    "    return d\n"
   ]
  },
  {
   "cell_type": "code",
   "execution_count": 6,
   "id": "7f6f969b-8bda-47d5-9ff7-44c0534c3e45",
   "metadata": {
    "tags": []
   },
   "outputs": [
    {
     "data": {
      "text/plain": [
       "285"
      ]
     },
     "execution_count": 6,
     "metadata": {},
     "output_type": "execute_result"
    }
   ],
   "source": [
    "rng = np.random.default_rng(42)\n",
    "ids = df[\"subhalo_id\"].unique()\n",
    "rng.shuffle(ids)\n",
    "n = len(ids); n_train = int(0.7*n); n_val = int(0.15*n)\n",
    "train_ids = ids[:n_train]; val_ids = ids[n_train:n_train+n_val]; test_ids = ids[n_train+n_val:]\n",
    "train_df = df[df[\"subhalo_id\"].isin(train_ids)].reset_index(drop=True)\n",
    "val_df   = df[df[\"subhalo_id\"].isin(val_ids)].reset_index(drop=True)\n",
    "test_df  = df[df[\"subhalo_id\"].isin(test_ids)].reset_index(drop=True)\n",
    "train_tf = apply_forward(train_df)\n",
    "val_tf   = apply_forward(val_df)\n",
    "mu = train_tf[FEATURES].mean().values.astype(np.float32)\n",
    "sd = train_tf[FEATURES].std(ddof=0).replace(0,1.0).values.astype(np.float32)\n",
    "PROC_DIR = Path(\"../data/processed\"); PROC_DIR.mkdir(parents=True,exist_ok=True)\n",
    "np.save(PROC_DIR/\"scaler_mean.npy\",mu)\n",
    "np.save(PROC_DIR/\"scaler_scale.npy\",sd)\n",
    "(Path(PROC_DIR/\"transform_config.json\")).write_text(json.dumps(TRANSFORM,indent=2))\n"
   ]
  },
  {
   "cell_type": "code",
   "execution_count": 7,
   "id": "6d871612-8613-452e-9421-d432fd8e884a",
   "metadata": {
    "tags": []
   },
   "outputs": [],
   "source": [
    "class BHTimeSeriesDataset(Dataset):\n",
    "    def __init__(self, df_, features, horizons, mu, sd, t_in=8):\n",
    "        self.features=features; self.horizons=horizons; self.mu=mu.astype(np.float32); self.sd=np.where(sd==0,1.0,sd).astype(np.float32); self.t_in=t_in\n",
    "        d=apply_forward(df_).sort_values([\"subhalo_id\",\"snapshot\"]).reset_index(drop=True)\n",
    "        self.tracks=[]\n",
    "        for tid,g in d.groupby(\"subhalo_id\"):\n",
    "            snaps=g[\"snapshot\"].values\n",
    "            X=g[self.features].values.astype(np.float32)\n",
    "            self.tracks.append((int(tid),snaps,X))\n",
    "    def __len__(self):\n",
    "        n=0; Hmax=max(self.horizons)\n",
    "        for _,snaps,_ in self.tracks:\n",
    "            n+=max(0,len(snaps)-(self.t_in+Hmax)+1)\n",
    "        return n\n",
    "    def __getitem__(self,idx):\n",
    "        Hmax=max(self.horizons)\n",
    "        for _,snaps,X in self.tracks:\n",
    "            m=max(0,len(snaps)-(self.t_in+Hmax)+1)\n",
    "            if idx<m:\n",
    "                i=idx\n",
    "                seg=X[i:i+self.t_in+Hmax]\n",
    "                Xin=seg[:self.t_in]\n",
    "                Yout=np.stack([seg[self.t_in-1+h] for h in self.horizons],axis=0)\n",
    "                Xz=(Xin-self.mu)/self.sd\n",
    "                Yz=(Yout-self.mu)/self.sd\n",
    "                return torch.tensor(Xz,dtype=torch.float32),torch.tensor(Yz,dtype=torch.float32)\n",
    "            idx-=m\n",
    "        raise IndexError\n"
   ]
  },
  {
   "cell_type": "code",
   "execution_count": 8,
   "id": "f7dc556d-21b6-4422-a7d9-1e0f7526f31b",
   "metadata": {
    "tags": []
   },
   "outputs": [],
   "source": [
    "class LSTMForecaster(nn.Module):\n",
    "    def __init__(self, in_dim, hidden, layers, dropout, horizons, out_dim):\n",
    "        super().__init__()\n",
    "        self.lstm=nn.LSTM(input_size=in_dim,hidden_size=hidden,num_layers=layers,batch_first=True,dropout=dropout if layers>1 else 0.0)\n",
    "        self.head=nn.Linear(hidden,horizons*out_dim)\n",
    "        self.horizons=horizons; self.out_dim=out_dim\n",
    "    def forward(self,x):\n",
    "        out,_=self.lstm(x)\n",
    "        h=out[:,-1,:]\n",
    "        y=self.head(h)\n",
    "        y=y.view(-1,self.horizons,self.out_dim)\n",
    "        return y\n"
   ]
  },
  {
   "cell_type": "code",
   "execution_count": 10,
   "id": "651e8cea-026a-49d9-b7f0-b933612fe935",
   "metadata": {
    "tags": []
   },
   "outputs": [
    {
     "data": {
      "text/plain": [
       "(5182, 1115)"
      ]
     },
     "execution_count": 10,
     "metadata": {},
     "output_type": "execute_result"
    }
   ],
   "source": [
    "HORIZONS = CFG[\"HORIZONS\"]; T_IN = CFG[\"T_IN\"]; BATCH = CFG[\"BATCH\"]\n",
    "train_ds = BHTimeSeriesDataset(train_df, FEATURES, HORIZONS, mu, sd, t_in=T_IN)\n",
    "val_ds   = BHTimeSeriesDataset(val_df,   FEATURES, HORIZONS, mu, sd, t_in=T_IN)\n",
    "train_loader = DataLoader(train_ds,batch_size=BATCH,shuffle=True,drop_last=False)\n",
    "val_loader   = DataLoader(val_ds,batch_size=BATCH,shuffle=False,drop_last=False)\n",
    "len(train_ds),len(val_ds)\n"
   ]
  },
  {
   "cell_type": "code",
   "execution_count": 11,
   "id": "5c34b733-1034-4daf-9cba-bca133440a8c",
   "metadata": {
    "tags": []
   },
   "outputs": [
    {
     "data": {
      "text/plain": [
       "0.15679172325561935"
      ]
     },
     "execution_count": 11,
     "metadata": {},
     "output_type": "execute_result"
    }
   ],
   "source": [
    "model = LSTMForecaster(in_dim=len(FEATURES),hidden=CFG[\"HIDDEN\"],layers=CFG[\"LAYERS\"],dropout=CFG[\"DROPOUT\"],horizons=len(HORIZONS),out_dim=len(FEATURES)).to(DEVICE)\n",
    "opt = torch.optim.AdamW(model.parameters(),lr=CFG[\"LR\"])\n",
    "crit = nn.MSELoss()\n",
    "sched = torch.optim.lr_scheduler.ReduceLROnPlateau(opt,mode=\"min\",factor=CFG[\"FACTOR\"],patience=4,min_lr=CFG[\"MIN_LR\"])\n",
    "best=float(\"inf\"); bad=0; history=[]\n",
    "for epoch in range(1,CFG[\"EPOCHS\"]+1):\n",
    "    model.train(); tr_loss=0.0; ntr=0\n",
    "    for Xb,Yb in train_loader:\n",
    "        Xb=Xb.to(DEVICE); Yb=Yb.to(DEVICE)\n",
    "        opt.zero_grad()\n",
    "        Pb=model(Xb)\n",
    "        loss=crit(Pb,Yb)\n",
    "        loss.backward(); opt.step()\n",
    "        tr_loss+=loss.item()*Xb.size(0); ntr+=Xb.size(0)\n",
    "    tr=tr_loss/ntr\n",
    "    model.eval(); va_loss=0.0; nva=0\n",
    "    with torch.no_grad():\n",
    "        for Xb,Yb in val_loader:\n",
    "            Xb=Xb.to(DEVICE); Yb=Yb.to(DEVICE)\n",
    "            Pb=model(Xb)\n",
    "            loss=crit(Pb,Yb)\n",
    "            va_loss+=loss.item()*Xb.size(0); nva+=Xb.size(0)\n",
    "    va=va_loss/nva\n",
    "    sched.step(va)\n",
    "    history.append((epoch,tr,va,opt.param_groups[0][\"lr\"]))\n",
    "    if va<best:\n",
    "        best=va; bad=0\n",
    "        Path(\"../models\").mkdir(parents=True,exist_ok=True)\n",
    "        torch.save(model.state_dict(),\"../models/lstm_blackhole_best.pt\")\n",
    "    else:\n",
    "        bad+=1\n",
    "    if bad>=CFG[\"PATIENCE\"]:\n",
    "        break\n",
    "hist_df=pd.DataFrame(history,columns=[\"epoch\",\"train\",\"val\",\"lr\"])\n",
    "Path(\"../reports/tables\").mkdir(parents=True,exist_ok=True)\n",
    "hist_df.to_csv(\"../reports/tables/training_history.csv\",index=False)\n",
    "best\n"
   ]
  },
  {
   "cell_type": "code",
   "execution_count": 12,
   "id": "1ee7136c-5a4d-4d21-b6a9-0afa5508a65e",
   "metadata": {
    "tags": []
   },
   "outputs": [
    {
     "data": {
      "text/plain": [
       "LSTMForecaster(\n",
       "  (lstm): LSTM(6, 128, batch_first=True)\n",
       "  (head): Linear(in_features=128, out_features=18, bias=True)\n",
       ")"
      ]
     },
     "execution_count": 12,
     "metadata": {},
     "output_type": "execute_result"
    }
   ],
   "source": [
    "test_ds = BHTimeSeriesDataset(test_df, FEATURES, HORIZONS, mu, sd, t_in=T_IN)\n",
    "test_loader = DataLoader(test_ds,batch_size=BATCH,shuffle=False)\n",
    "m = LSTMForecaster(in_dim=len(FEATURES),hidden=CFG[\"HIDDEN\"],layers=CFG[\"LAYERS\"],dropout=CFG[\"DROPOUT\"],horizons=len(HORIZONS),out_dim=len(FEATURES)).to(DEVICE)\n",
    "m.load_state_dict(torch.load(\"../models/lstm_blackhole_best.pt\",map_location=DEVICE))\n",
    "m.eval()\n"
   ]
  },
  {
   "cell_type": "code",
   "execution_count": 13,
   "id": "d2136c9c-934e-40a4-bc2e-0c8b1fd2d00d",
   "metadata": {
    "tags": []
   },
   "outputs": [
    {
     "data": {
      "text/plain": [
       "((1115, 3, 6), (1115, 3, 6), (1115, 6))"
      ]
     },
     "execution_count": 13,
     "metadata": {},
     "output_type": "execute_result"
    }
   ],
   "source": [
    "Y_true_list=[]; Y_pred_list=[]; X_last_list=[]\n",
    "with torch.no_grad():\n",
    "    for Xb,Yb in test_loader:\n",
    "        Xb=Xb.to(DEVICE); Yb=Yb.to(DEVICE)\n",
    "        Pb=m(Xb)\n",
    "        Y_true_list.append(Yb.cpu().numpy())\n",
    "        Y_pred_list.append(Pb.cpu().numpy())\n",
    "        X_last_list.append(Xb[:,-1,:].cpu().numpy())\n",
    "Y_true_z = np.concatenate(Y_true_list,axis=0)\n",
    "Y_pred_z = np.concatenate(Y_pred_list,axis=0)\n",
    "Xt_z = np.concatenate(X_last_list,axis=0)\n",
    "ARR = Path(\"../reports/tables\"); ARR.mkdir(parents=True,exist_ok=True)\n",
    "np.save(ARR/\"Y_true_z.npy\",Y_true_z)\n",
    "np.save(ARR/\"Y_pred_z.npy\",Y_pred_z)\n",
    "np.save(ARR/\"Xt_z.npy\",Xt_z)\n",
    "Y_true_z.shape,Y_pred_z.shape,Xt_z.shape\n"
   ]
  },
  {
   "cell_type": "code",
   "execution_count": 14,
   "id": "273d920f-7db9-4b4a-adf4-46db14476730",
   "metadata": {},
   "outputs": [
    {
     "data": {
      "text/plain": [
       "'Saved X_windows_z for explainability.'"
      ]
     },
     "execution_count": 14,
     "metadata": {},
     "output_type": "execute_result"
    }
   ],
   "source": [
    "X_windows = []\n",
    "with torch.no_grad():\n",
    "    for Xb, Yb in test_loader:\n",
    "        X_windows.append(Xb.cpu().numpy())\n",
    "X_windows_z = np.concatenate(X_windows, axis=0)\n",
    "np.save(Path(\"../reports/tables\")/\"X_windows_z.npy\", X_windows_z)\n",
    "\"Saved X_windows_z for explainability.\"\n"
   ]
  },
  {
   "cell_type": "code",
   "execution_count": null,
   "id": "f3773d7c-142f-41ce-a442-ac5748b132c7",
   "metadata": {},
   "outputs": [],
   "source": []
  }
 ],
 "metadata": {
  "kernelspec": {
   "display_name": "Python 3 (ipykernel)",
   "language": "python",
   "name": "python3"
  },
  "language_info": {
   "codemirror_mode": {
    "name": "ipython",
    "version": 3
   },
   "file_extension": ".py",
   "mimetype": "text/x-python",
   "name": "python",
   "nbconvert_exporter": "python",
   "pygments_lexer": "ipython3",
   "version": "3.11.4"
  }
 },
 "nbformat": 4,
 "nbformat_minor": 5
}
