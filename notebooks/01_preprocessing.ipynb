{
 "cells": [
  {
   "cell_type": "code",
   "execution_count": 1,
   "id": "7f97869d-00ce-4e25-9467-8553dcb34b76",
   "metadata": {
    "tags": []
   },
   "outputs": [
    {
     "name": "stdout",
     "output_type": "stream",
     "text": [
      "NumPy: 1.24.3 | PyTorch: 2.0.1+cpu\n"
     ]
    }
   ],
   "source": [
    "import requests\n",
    "import numpy as np\n",
    "import torch\n",
    "import random\n",
    "random.seed(42)\n",
    "print(f\"NumPy: {np.__version__} | PyTorch: {torch.__version__}\")\n"
   ]
  },
  {
   "cell_type": "code",
   "execution_count": 2,
   "id": "b4ab181f-c5c1-4b1a-aed5-546d0a03715a",
   "metadata": {
    "tags": []
   },
   "outputs": [
    {
     "name": "stdout",
     "output_type": "stream",
     "text": [
      "Total subhalos with black holes: 29415\n"
     ]
    }
   ],
   "source": [
    "import illustris_python as il\n",
    "\n",
    "basePath = \"/home/tnguser/sims.TNG/TNG100-1/output\"  # <- same as before\n",
    "SNAP_START, SNAP_END = 18, 33\n",
    "required_snaps = set(range(SNAP_START, SNAP_END+1))   # 18..33 (16 snaps)\n",
    "\n",
    "subhalos = il.groupcat.loadSubhalos(basePath, 33, fields=['SubhaloBHMass','SubhaloMassType'])\n",
    "bh_mass = subhalos['SubhaloBHMass']\n",
    "stellar_mass = subhalos['SubhaloMassType'][:,4]\n",
    "bh_mask = bh_mass > 0\n",
    "bh_list = [i for i, has_bh in enumerate(bh_mask) if has_bh]\n",
    "print(\"Total subhalos with black holes:\", len(bh_list))\n"
   ]
  },
  {
   "cell_type": "code",
   "execution_count": 3,
   "id": "13f062eb-5061-44e9-8d9f-3b09640739c7",
   "metadata": {
    "tags": []
   },
   "outputs": [
    {
     "name": "stdout",
     "output_type": "stream",
     "text": [
      "Warning, empty return. Subhalo [18022] at snapNum [33] not in tree.\n",
      "Warning, empty return. Subhalo [19588] at snapNum [33] not in tree.\n",
      "Warning, empty return. Subhalo [39449] at snapNum [33] not in tree.\n",
      "Warning, empty return. Subhalo [39547] at snapNum [33] not in tree.\n",
      "Warning, empty return. Subhalo [138375] at snapNum [33] not in tree.\n",
      "Warning, empty return. Subhalo [147013] at snapNum [33] not in tree.\n",
      "Checked 5000/29415 subhalos...\n",
      "Checked 10000/29415 subhalos...\n",
      "Checked 15000/29415 subhalos...\n",
      "Checked 20000/29415 subhalos...\n",
      "Checked 25000/29415 subhalos...\n",
      "BHs with ≥90% snapshot coverage: 29232\n"
     ]
    }
   ],
   "source": [
    "full_histories = {}\n",
    "for count, sub_id in enumerate(bh_list, start=1):\n",
    "    try:\n",
    "        tree = il.sublink.loadTree(\n",
    "            basePath, 33, sub_id,\n",
    "            fields=['SubhaloID','SnapNum','SubhaloBHMass','SubhaloBHMdot',\n",
    "                    'SubhaloMassType','SubhaloSFR','SubhaloVelDisp'],\n",
    "            onlyMPB=True\n",
    "        )\n",
    "        mask = (tree['SnapNum'] <= 32) & (tree['SnapNum'] >= 18)\n",
    "        snaps = set(tree['SnapNum'][mask])\n",
    "\n",
    "        if len(snaps & required_snaps) >= int(0.9 * len(required_snaps)):\n",
    "            idx = np.argsort(tree['SnapNum'][mask])\n",
    "            full_histories[sub_id] = {\n",
    "                \"snap_nums\":       tree['SnapNum'][mask][idx].tolist(),\n",
    "                \"bh_mass\":         tree['SubhaloBHMass'][mask][idx].tolist(),\n",
    "                \"bh_accretion\":    tree['SubhaloBHMdot'][mask][idx].tolist(),\n",
    "                \"stellar_mass\":    tree['SubhaloMassType'][mask][idx, 4].tolist(),\n",
    "                \"halo_mass\":       tree['SubhaloMassType'][mask][idx].sum(axis=1).tolist(),\n",
    "                \"sfr\":             tree['SubhaloSFR'][mask][idx].tolist(),\n",
    "                \"vel_dispersion\":  tree['SubhaloVelDisp'][mask][idx].tolist(),\n",
    "            }\n",
    "    except Exception:\n",
    "        pass\n",
    "    if count % 5000 == 0:\n",
    "        print(f\"Checked {count}/{len(bh_list)} subhalos...\")\n",
    "\n",
    "print(\"BHs with ≥90% snapshot coverage:\", len(full_histories))\n"
   ]
  },
  {
   "cell_type": "code",
   "execution_count": 4,
   "id": "8ca75dac-4ac2-42ca-9c2f-c26c8f546f98",
   "metadata": {
    "tags": []
   },
   "outputs": [
    {
     "name": "stdout",
     "output_type": "stream",
     "text": [
      "Sampled: 2500\n",
      "Inspect ID: 163461\n",
      "Snapshots: [18, 19, 20, 21, 22, 23, 24, 25, 26, 27] ...\n",
      "BH Mass seq (first 5): [9.446660260437056e-05, 9.979942115023732e-05, 0.00010838297748705372, 0.00012950033124070615, 0.00015543214976787567]\n"
     ]
    }
   ],
   "source": [
    "import random\n",
    "sampled_ids = random.sample(list(full_histories.keys()), 2500)\n",
    "print(\"Sampled:\", len(sampled_ids))\n",
    "\n",
    "check_id = random.choice(sampled_ids)\n",
    "print(\"Inspect ID:\", check_id)\n",
    "print(\"Snapshots:\", full_histories[check_id][\"snap_nums\"][:10], \"...\")\n",
    "print(\"BH Mass seq (first 5):\", full_histories[check_id][\"bh_mass\"][:5])\n"
   ]
  },
  {
   "cell_type": "code",
   "execution_count": 5,
   "id": "7638948a-b078-475f-90f0-abcb75b08603",
   "metadata": {
    "tags": []
   },
   "outputs": [
    {
     "data": {
      "text/plain": [
       "((37412, 8),\n",
       "    subhalo_id  snapshot  bh_mass  bh_acc  stellar_mass       sfr  halo_mass  \\\n",
       " 0          13        18      0.0     0.0      0.006245  0.421397   0.802091   \n",
       " 1          13        19      0.0     0.0      0.016149  0.643598   8.043409   \n",
       " 2          13        20      0.0     0.0      0.023937  1.254688  11.051660   \n",
       " 3          13        21      0.0     0.0      0.030710  1.306005  13.369424   \n",
       " 4          13        22      0.0     0.0      0.067673  5.782820  17.118586   \n",
       " \n",
       "      vel_disp  \n",
       " 0   53.604897  \n",
       " 1   75.514915  \n",
       " 2   86.856369  \n",
       " 3   93.939201  \n",
       " 4  112.977501  )"
      ]
     },
     "execution_count": 5,
     "metadata": {},
     "output_type": "execute_result"
    }
   ],
   "source": [
    "import pandas as pd\n",
    "from pathlib import Path\n",
    "\n",
    "rows = []\n",
    "for sid in sampled_ids:\n",
    "    rec = full_histories[sid]\n",
    "    for s, m, mdot, sm, hm, sfr, vd in zip(\n",
    "        rec[\"snap_nums\"], rec[\"bh_mass\"], rec[\"bh_accretion\"],\n",
    "        rec[\"stellar_mass\"], rec[\"halo_mass\"], rec[\"sfr\"], rec[\"vel_dispersion\"]\n",
    "    ):\n",
    "        rows.append({\n",
    "            \"subhalo_id\": int(sid),\n",
    "            \"snapshot\":   int(s),\n",
    "            \"bh_mass\":    float(m),\n",
    "            \"bh_acc\":     float(mdot),\n",
    "            \"stellar_mass\": float(sm),\n",
    "            \"sfr\":        float(sfr),\n",
    "            \"halo_mass\":  float(hm),\n",
    "            \"vel_disp\":   float(vd),\n",
    "        })\n",
    "\n",
    "tidy = pd.DataFrame(rows).sort_values([\"subhalo_id\",\"snapshot\"]).reset_index(drop=True)\n",
    "\n",
    "OUT_CSV = \"../data/black_hole_evolution_tng100.csv\"\n",
    "Path(\"../data\").mkdir(parents=True, exist_ok=True)\n",
    "tidy.to_csv(OUT_CSV, index=False)\n",
    "\n",
    "tidy.shape, tidy.head()\n"
   ]
  },
  {
   "cell_type": "code",
   "execution_count": 6,
   "id": "a59a87d0-c9a5-438b-b572-5bdd489afe72",
   "metadata": {
    "tags": []
   },
   "outputs": [
    {
     "data": {
      "text/plain": [
       "{'n_tracks': 2500,\n",
       " 'train': 1750,\n",
       " 'val': 375,\n",
       " 'test': 375,\n",
       " 'csv': '../data/black_hole_evolution_tng100.csv'}"
      ]
     },
     "execution_count": 6,
     "metadata": {},
     "output_type": "execute_result"
    }
   ],
   "source": [
    "FEATURE_ORDER = [\"bh_mass\",\"bh_acc\",\"stellar_mass\",\"sfr\",\"halo_mass\",\"vel_disp\"]\n",
    "\n",
    "ids = np.array(sorted(tidy[\"subhalo_id\"].unique()))\n",
    "rng = np.random.default_rng(1337)\n",
    "rng.shuffle(ids)\n",
    "n = len(ids); n_tr = int(0.70*n); n_va = int(0.15*n)\n",
    "tr, va, te = ids[:n_tr], ids[n_tr:n_tr+n_va], ids[n_tr+n_va:]\n",
    "\n",
    "train = tidy[tidy.subhalo_id.isin(tr)].copy()\n",
    "val   = tidy[tidy.subhalo_id.isin(va)].copy()\n",
    "test  = tidy[tidy.subhalo_id.isin(te)].copy()\n",
    "\n",
    "stats = {}\n",
    "for c in FEATURE_ORDER:\n",
    "    mu = float(train[c].mean()); sd = float(train[c].std() + 1e-12)\n",
    "    stats[c] = {\"mean\": mu, \"std\": sd}\n",
    "    train[c] = (train[c]-mu)/sd\n",
    "    val[c]   = (val[c]-mu)/sd\n",
    "    test[c]  = (test[c]-mu)/sd\n",
    "\n",
    "outp = Path(\"../data/processed\"); outp.mkdir(parents=True, exist_ok=True)\n",
    "train.to_parquet(outp/\"train.parquet\", index=False)\n",
    "val.to_parquet(outp/\"val.parquet\", index=False)\n",
    "test.to_parquet(outp/\"test.parquet\", index=False)\n",
    "pd.DataFrame(stats).T.to_csv(outp/\"standardization_stats.csv\")\n",
    "\n",
    "{\"n_tracks\": n, \"train\": len(tr), \"val\": len(va), \"test\": len(te), \"csv\": OUT_CSV}\n"
   ]
  },
  {
   "cell_type": "code",
   "execution_count": null,
   "id": "e06f9f2b-b55e-4de4-94c6-839089c20e67",
   "metadata": {},
   "outputs": [],
   "source": []
  }
 ],
 "metadata": {
  "kernelspec": {
   "display_name": "Python 3 (ipykernel)",
   "language": "python",
   "name": "python3"
  },
  "language_info": {
   "codemirror_mode": {
    "name": "ipython",
    "version": 3
   },
   "file_extension": ".py",
   "mimetype": "text/x-python",
   "name": "python",
   "nbconvert_exporter": "python",
   "pygments_lexer": "ipython3",
   "version": "3.11.4"
  }
 },
 "nbformat": 4,
 "nbformat_minor": 5
}
