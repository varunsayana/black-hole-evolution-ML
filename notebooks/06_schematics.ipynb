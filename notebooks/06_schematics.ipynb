{
 "cells": [
  {
   "cell_type": "code",
   "execution_count": 1,
   "id": "b7057cb9-afa8-428b-83ea-472e8ffc1148",
   "metadata": {
    "tags": []
   },
   "outputs": [],
   "source": [
    "from pathlib import Path\n",
    "import matplotlib.pyplot as plt\n",
    "import matplotlib.patches as patches\n",
    "\n",
    "EXPORT_DIR = Path(\"../reports/exports\"); EXPORT_DIR.mkdir(parents=True, exist_ok=True)\n",
    "\n",
    "plt.rcParams.update({\n",
    "    \"figure.figsize\": (10, 4.8),\n",
    "    \"axes.titlesize\": 16,\n",
    "    \"axes.labelsize\": 13,\n",
    "    \"xtick.labelsize\": 11,\n",
    "    \"ytick.labelsize\": 11,\n",
    "})\n"
   ]
  },
  {
   "cell_type": "code",
   "execution_count": 3,
   "id": "f3efe5c0-a03d-49ed-adf7-ca0eaf178bbf",
   "metadata": {
    "tags": []
   },
   "outputs": [
    {
     "data": {
      "text/plain": [
       "'../reports/exports/pipeline_schematic.png'"
      ]
     },
     "execution_count": 3,
     "metadata": {},
     "output_type": "execute_result"
    }
   ],
   "source": [
    "def draw_box(ax, xy, w, h, text, fc=\"#EFF3FF\", ec=\"#1F4B99\", lw=1.8, r=0.15, txtsize=11, bold=False):\n",
    "    box = patches.FancyBboxPatch(\n",
    "        xy, w, h,\n",
    "        boxstyle=patches.BoxStyle(\"Round\", rounding_size=r*min(w,h)),\n",
    "        linewidth=lw, edgecolor=ec, facecolor=fc\n",
    "    )\n",
    "    ax.add_patch(box)\n",
    "    ax.text(xy[0]+w/2, xy[1]+h/2, text, ha=\"center\", va=\"center\",\n",
    "            fontsize=txtsize, fontweight=(\"bold\" if bold else \"normal\"), wrap=True)\n",
    "\n",
    "def arrow(ax, xy1, xy2):\n",
    "    ax.annotate(\"\", xy=xy2, xytext=xy1,\n",
    "                arrowprops=dict(arrowstyle=\"->\", lw=1.8, color=\"#333\"))\n",
    "\n",
    "fig, ax = plt.subplots(figsize=(12,4.8))\n",
    "ax.axis(\"off\")\n",
    "\n",
    "# layout grid (x in [0,1], y in [0,1])\n",
    "boxes = [\n",
    "    ((0.02, 0.35), 0.16, 0.30, \"IllustrisTNG100\\nSnapshots 18–33\\nMPB Extraction\\n(≥90% coverage, N≈2500)\", True),\n",
    "    ((0.22, 0.35), 0.16, 0.30, \"Preprocessing\\n• Select features\\n• Handle coverage\\n• Standardize (z-score)\", False),\n",
    "    ((0.42, 0.35), 0.16, 0.30, \"Train/Val/Test Split\\nby Subhalo ID\", False),\n",
    "    ((0.62, 0.35), 0.16, 0.30, \"Modeling\\nLSTM Forecaster\\n(H=[1,3,5])\", False),\n",
    "    ((0.82, 0.35), 0.16, 0.30, \"Evaluation\\n• RMSE per horizon/feature\\n• Parity plots\\n• Baselines\\n• Explainability\", False),\n",
    "]\n",
    "\n",
    "for (xy, w, h, txt, bold) in boxes:\n",
    "    draw_box(ax, xy, w, h, txt, bold=bold)\n",
    "\n",
    "arrow(ax, (0.18, 0.50), (0.22, 0.50))\n",
    "arrow(ax, (0.38, 0.50), (0.42, 0.50))\n",
    "arrow(ax, (0.58, 0.50), (0.62, 0.50))\n",
    "arrow(ax, (0.78, 0.50), (0.82, 0.50))\n",
    "\n",
    "ax.set_title(\"End-to-End Pipeline for Forecasting Black Hole Evolution\")\n",
    "plt.tight_layout()\n",
    "fig.savefig(EXPORT_DIR/\"pipeline_schematic.png\", dpi=300, bbox_inches=\"tight\")\n",
    "fig.savefig(EXPORT_DIR/\"pipeline_schematic.svg\", bbox_inches=\"tight\")\n",
    "plt.close(fig)\n",
    "\n",
    "str(EXPORT_DIR/\"pipeline_schematic.png\")\n"
   ]
  },
  {
   "cell_type": "code",
   "execution_count": 4,
   "id": "481ff8f5-19a8-4343-a594-057c1b5c1b09",
   "metadata": {
    "tags": []
   },
   "outputs": [
    {
     "data": {
      "text/plain": [
       "['../reports/exports/lstm_architecture.png',\n",
       " '../reports/exports/lstm_architecture.svg']"
      ]
     },
     "execution_count": 4,
     "metadata": {},
     "output_type": "execute_result"
    }
   ],
   "source": [
    "fig, ax = plt.subplots(figsize=(12,4.8))\n",
    "ax.axis(\"off\")\n",
    "\n",
    "# input feature labels\n",
    "in_feats = [\"BH Mass\", \"BH Accretion\", \"Stellar Mass\", \"SFR\", \"Halo Mass\", \"Velocity Dispersion\"]\n",
    "in_text = \"Input at each timestep (z-scored):\\n\" + \", \".join(in_feats)\n",
    "\n",
    "# draw time steps t-(T-1) ... t\n",
    "T = 8\n",
    "x0, y0 = 0.06, 0.25\n",
    "dx = 0.09\n",
    "h = 0.20; w = 0.08\n",
    "\n",
    "# input row\n",
    "for i in range(T):\n",
    "    draw_box(ax, (x0 + i*dx, y0), w, h, f\"x[{i+1}]\", fc=\"#F2F2F2\", ec=\"#666\", txtsize=10)\n",
    "\n",
    "ax.text(x0 + (T*dx)/2, y0-0.12, in_text, ha=\"center\", va=\"center\", fontsize=11)\n",
    "\n",
    "# LSTM cells row\n",
    "y1 = y0 + 0.28\n",
    "for i in range(T):\n",
    "    draw_box(ax, (x0 + i*dx, y1), w, h, \"LSTM\", fc=\"#E8F5E9\", ec=\"#1B5E20\", txtsize=11, bold=True)\n",
    "\n",
    "# recurrent arrows\n",
    "for i in range(T-1):\n",
    "    arrow(ax, (x0 + i*dx + w, y1 + h/2), (x0 + (i+1)*dx, y1 + h/2))\n",
    "\n",
    "# input→cell arrows\n",
    "for i in range(T):\n",
    "    arrow(ax, (x0 + i*dx + w/2, y0 + h), (x0 + i*dx + w/2, y1))\n",
    "\n",
    "# output head\n",
    "x_head = x0 + (T-1)*dx + 0.12\n",
    "draw_box(ax, (x_head, y1), 0.14, h, \"Dense Head\", fc=\"#FFF3E0\", ec=\"#E65100\", txtsize=11, bold=True)\n",
    "arrow(ax, (x0 + (T-1)*dx + w, y1 + h/2), (x_head, y1 + h/2))\n",
    "\n",
    "# multi-horizon outputs\n",
    "y_outs = [y1 + 0.25, y1 + 0.10, y1 - 0.05]\n",
    "for k, (hoff, label) in enumerate(zip([1,3,5], [\"H=1\", \"H=3\", \"H=5\"])):\n",
    "    draw_box(ax, (x_head + 0.18, y_outs[k]-0.06), 0.16, 0.12, f\"Predicted features\\n({label})\", fc=\"#E3F2FD\", ec=\"#0D47A1\", txtsize=10)\n",
    "    arrow(ax, (x_head + 0.14, y1 + h/2), (x_head + 0.18, y_outs[k]))\n",
    "\n",
    "ax.set_title(\"LSTM Architecture for Multi-Horizon Forecasting\")\n",
    "plt.tight_layout()\n",
    "fig.savefig(EXPORT_DIR/\"lstm_architecture.png\", dpi=300, bbox_inches=\"tight\")\n",
    "fig.savefig(EXPORT_DIR/\"lstm_architecture.svg\", bbox_inches=\"tight\")\n",
    "plt.close(fig)\n",
    "\n",
    "[str(EXPORT_DIR/\"lstm_architecture.png\"), str(EXPORT_DIR/\"lstm_architecture.svg\")]\n"
   ]
  },
  {
   "cell_type": "code",
   "execution_count": null,
   "id": "a0a6be75-e3b3-42c1-ba42-93f2176f8ba9",
   "metadata": {},
   "outputs": [],
   "source": []
  }
 ],
 "metadata": {
  "kernelspec": {
   "display_name": "Python 3 (ipykernel)",
   "language": "python",
   "name": "python3"
  },
  "language_info": {
   "codemirror_mode": {
    "name": "ipython",
    "version": 3
   },
   "file_extension": ".py",
   "mimetype": "text/x-python",
   "name": "python",
   "nbconvert_exporter": "python",
   "pygments_lexer": "ipython3",
   "version": "3.11.4"
  }
 },
 "nbformat": 4,
 "nbformat_minor": 5
}
