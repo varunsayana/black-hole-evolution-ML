{
 "cells": [
  {
   "cell_type": "markdown",
   "id": "0049aa70-a76c-46a3-aa33-6f8f2dae556c",
   "metadata": {
    "tags": []
   },
   "source": [
    "# Black Hole Evolution — Project Overview\n",
    "\n",
    "**Goal:** Forecast galaxy/black-hole properties (e.g., *Black Hole Mass*, *Star Formation Rate*) from IllustrisTNG using a sequence model (LSTM).\n",
    "- Reproducible splits (by `subhalo_id`)\n",
    "- Train-only standardization\n",
    "- Professional figures with consistent fonts & human-readable labels\n"
   ]
  },
  {
   "cell_type": "code",
   "execution_count": 1,
   "id": "efef6754-cddc-444d-920a-09942e7fff73",
   "metadata": {
    "tags": []
   },
   "outputs": [
    {
     "data": {
      "text/plain": [
       "({'features': ['bh_mass',\n",
       "   'bh_acc',\n",
       "   'stellar_mass',\n",
       "   'halo_mass',\n",
       "   'vel_disp',\n",
       "   'sfr'],\n",
       "  'target': 'bh_mass',\n",
       "  'label_map': {'bh_mass': 'Black Hole Mass',\n",
       "   'bh_acc': 'BH Accretion Rate',\n",
       "   'stellar_mass': 'Stellar Mass',\n",
       "   'halo_mass': 'Halo Mass',\n",
       "   'vel_disp': 'Velocity Dispersion',\n",
       "   'sfr': 'Star Formation Rate'}},\n",
       " {'box': 'TNG100-1',\n",
       "  'snapshots': [50, 67, 84, 99],\n",
       "  'standardize': True,\n",
       "  'split': {'train': 0.7, 'val': 0.15, 'test': 0.15, 'seed': 1337}},\n",
       " {'lookback': 3,\n",
       "  'horizons': [1, 2, 3, 5, 7],\n",
       "  'batch_size': 512,\n",
       "  'epochs': 100,\n",
       "  'patience': 12,\n",
       "  'lr': 0.001,\n",
       "  'weight_decay': 0.0,\n",
       "  'lstm_hidden': 96,\n",
       "  'lstm_layers': 1,\n",
       "  'dropout': 0.0},\n",
       " {'figure_dpi': 150,\n",
       "  'font_size': 13,\n",
       "  'title_size': 15,\n",
       "  'label_size': 13,\n",
       "  'tick_size': 11,\n",
       "  'legend_size': 11})"
      ]
     },
     "execution_count": 1,
     "metadata": {},
     "output_type": "execute_result"
    }
   ],
   "source": [
    "from pathlib import Path\n",
    "import json\n",
    "\n",
    "def load_json(p): \n",
    "    return json.loads(Path(p).read_text())\n",
    "\n",
    "CFG_FEATURES   = load_json(\"../configs/features.json\")\n",
    "CFG_DATA       = load_json(\"../configs/data.json\")\n",
    "CFG_HP         = load_json(\"../configs/hyperparams.json\")\n",
    "CFG_PLOTTING   = load_json(\"../configs/plotting.json\")\n",
    "\n",
    "CFG_FEATURES, CFG_DATA, CFG_HP, CFG_PLOTTING\n"
   ]
  },
  {
   "cell_type": "code",
   "execution_count": 2,
   "id": "853a8886-3ff7-486d-966f-0269f39e10c2",
   "metadata": {
    "tags": []
   },
   "outputs": [
    {
     "data": {
      "text/plain": [
       "({'features': ['bh_mass',\n",
       "   'bh_acc',\n",
       "   'stellar_mass',\n",
       "   'halo_mass',\n",
       "   'vel_disp',\n",
       "   'sfr'],\n",
       "  'target': 'bh_mass',\n",
       "  'label_map': {'bh_mass': 'Black Hole Mass',\n",
       "   'bh_acc': 'BH Accretion Rate',\n",
       "   'stellar_mass': 'Stellar Mass',\n",
       "   'halo_mass': 'Halo Mass',\n",
       "   'vel_disp': 'Velocity Dispersion',\n",
       "   'sfr': 'Star Formation Rate'}},\n",
       " {'box': 'TNG100-1',\n",
       "  'snapshots': [50, 67, 84, 99],\n",
       "  'standardize': True,\n",
       "  'split': {'train': 0.7, 'val': 0.15, 'test': 0.15, 'seed': 1337}},\n",
       " {'lookback': 3,\n",
       "  'horizons': [1, 2, 3, 5, 7],\n",
       "  'batch_size': 512,\n",
       "  'epochs': 100,\n",
       "  'patience': 12,\n",
       "  'lr': 0.001,\n",
       "  'weight_decay': 0.0,\n",
       "  'lstm_hidden': 96,\n",
       "  'lstm_layers': 1,\n",
       "  'dropout': 0.0},\n",
       " {'figure_dpi': 150,\n",
       "  'font_size': 13,\n",
       "  'title_size': 15,\n",
       "  'label_size': 13,\n",
       "  'tick_size': 11,\n",
       "  'legend_size': 11})"
      ]
     },
     "execution_count": 2,
     "metadata": {},
     "output_type": "execute_result"
    }
   ],
   "source": [
    "from pathlib import Path\n",
    "import json\n",
    "\n",
    "def load_json(p): \n",
    "    return json.loads(Path(p).read_text())\n",
    "\n",
    "CFG_FEATURES   = load_json(\"../configs/features.json\")\n",
    "CFG_DATA       = load_json(\"../configs/data.json\")\n",
    "CFG_HP         = load_json(\"../configs/hyperparams.json\")\n",
    "CFG_PLOTTING   = load_json(\"../configs/plotting.json\")\n",
    "\n",
    "CFG_FEATURES, CFG_DATA, CFG_HP, CFG_PLOTTING\n"
   ]
  },
  {
   "cell_type": "code",
   "execution_count": 3,
   "id": "60297744-c3dd-465e-8ed7-f320588ac66d",
   "metadata": {
    "tags": []
   },
   "outputs": [
    {
     "name": "stdout",
     "output_type": "stream",
     "text": [
      "Plotting style set.\n"
     ]
    }
   ],
   "source": [
    "import matplotlib.pyplot as plt\n",
    "\n",
    "plt.rcParams.update({\n",
    "    \"figure.dpi\":   CFG_PLOTTING.get(\"figure_dpi\", 150),\n",
    "    \"font.size\":    CFG_PLOTTING.get(\"font_size\", 13),\n",
    "    \"axes.titlesize\": CFG_PLOTTING.get(\"title_size\", 15),\n",
    "    \"axes.labelsize\":  CFG_PLOTTING.get(\"label_size\", 13),\n",
    "    \"xtick.labelsize\": CFG_PLOTTING.get(\"tick_size\", 11),\n",
    "    \"ytick.labelsize\": CFG_PLOTTING.get(\"tick_size\", 11),\n",
    "    \"legend.fontsize\": CFG_PLOTTING.get(\"legend_size\", 11),\n",
    "    \"axes.grid\": True,\n",
    "})\n",
    "print(\"Plotting style set.\")\n"
   ]
  },
  {
   "cell_type": "markdown",
   "id": "744d85f1-00d6-443c-b2d7-5b69b00c2e74",
   "metadata": {},
   "source": [
    "## Workflow\n",
    "1. **Preprocessing** (`01_preprocessing.ipynb`) – load TNG data, build tidy DataFrame, split by `subhalo_id`, standardize (train-only).\n",
    "2. **Training** (`02_model_train_eval.ipynb`) – LSTM with early stopping, **convergence plot**, parity, RMSE vs horizon.\n",
    "3. **Post-analysis** – (optional) calibration curves, bootstrap CIs, Overleaf export.\n"
   ]
  }
 ],
 "metadata": {
  "kernelspec": {
   "display_name": "Python 3 (ipykernel)",
   "language": "python",
   "name": "python3"
  },
  "language_info": {
   "codemirror_mode": {
    "name": "ipython",
    "version": 3
   },
   "file_extension": ".py",
   "mimetype": "text/x-python",
   "name": "python",
   "nbconvert_exporter": "python",
   "pygments_lexer": "ipython3",
   "version": "3.11.4"
  }
 },
 "nbformat": 4,
 "nbformat_minor": 5
}
