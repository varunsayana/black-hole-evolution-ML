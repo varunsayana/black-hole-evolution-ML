{
 "cells": [
  {
   "cell_type": "code",
   "execution_count": 1,
   "id": "89461dce-1505-4d67-b5b3-5108e6c98816",
   "metadata": {
    "tags": []
   },
   "outputs": [
    {
     "data": {
      "text/plain": [
       "((1079, 8, 6), (1079, 3, 6))"
      ]
     },
     "execution_count": 1,
     "metadata": {},
     "output_type": "execute_result"
    }
   ],
   "source": [
    "from pathlib import Path\n",
    "import numpy as np, pandas as pd\n",
    "import torch, torch.nn as nn\n",
    "from torch.utils.data import DataLoader\n",
    "import matplotlib.pyplot as plt\n",
    "\n",
    "# paths (consistent with earlier nbs)\n",
    "DATA_DIR   = Path(\"../data/processed\")\n",
    "FIG_DIR    = Path(\"../reports/figures\"); FIG_DIR.mkdir(parents=True, exist_ok=True)\n",
    "TABLE_DIR  = Path(\"../reports/tables\");  TABLE_DIR.mkdir(parents=True, exist_ok=True)\n",
    "MODEL_DIR  = Path(\"../models\")\n",
    "\n",
    "FEATURES  = [\"bh_mass\",\"bh_acc\",\"stellar_mass\",\"sfr\",\"halo_mass\",\"vel_disp\"]\n",
    "NAME_MAP  = {\n",
    "    \"bh_mass\":\"Black Hole Mass\",\"bh_acc\":\"BH Accretion Rate\",\n",
    "    \"stellar_mass\":\"Stellar Mass\",\"sfr\":\"Star Formation Rate\",\n",
    "    \"halo_mass\":\"Halo Mass\",\"vel_disp\":\"Velocity Dispersion\",\n",
    "}\n",
    "HORIZONS  = [1,3,5]\n",
    "T_IN      = 8\n",
    "\n",
    "# load standardization stats\n",
    "stats_df = pd.read_csv(DATA_DIR/\"standardization_stats.csv\", index_col=0)\n",
    "STATS = {k: {\"mean\": float(stats_df.loc[k,\"mean\"]), \"std\": float(stats_df.loc[k,\"std\"])} for k in stats_df.index}\n",
    "\n",
    "# load test split (already z-scored in prior eval, but we'll normalize here to be safe)\n",
    "test = pd.read_parquet(DATA_DIR/\"test.parquet\").sort_values([\"subhalo_id\",\"snapshot\"]).reset_index(drop=True)\n",
    "\n",
    "# normalization\n",
    "for f in FEATURES:\n",
    "    mu, sd = STATS[f][\"mean\"], STATS[f][\"std\"]\n",
    "    test[f] = (test[f]-mu)/sd\n",
    "\n",
    "# build sequences identical to 03\n",
    "def split_tracks(df):\n",
    "    tracks=[]\n",
    "    for tid,g in df.groupby(\"subhalo_id\"):\n",
    "        snaps = g[\"snapshot\"].values\n",
    "        X = g[FEATURES].values.astype(np.float32)\n",
    "        tracks.append((int(tid), snaps, X))\n",
    "    return tracks\n",
    "\n",
    "def make_sequences(tracks, t_in=8, horizons=[1,3,5]):\n",
    "    Xs, Ys = [], []\n",
    "    for tid, snaps, X in tracks:\n",
    "        if len(snaps) < t_in+max(horizons): continue\n",
    "        i=0\n",
    "        while i + t_in + max(horizons) <= len(snaps):\n",
    "            seg_snaps = snaps[i:i+t_in+max(horizons)]\n",
    "            if np.all(np.diff(seg_snaps)==1):\n",
    "                xin = X[i:i+t_in]\n",
    "                youts=[]\n",
    "                for h in horizons:\n",
    "                    youts.append(X[i+t_in-1+h])\n",
    "                Xs.append(xin); Ys.append(np.stack(youts,0))\n",
    "                i += 1\n",
    "            else:\n",
    "                brk = np.where(np.diff(seg_snaps)!=1)[0][0]\n",
    "                i = i + brk + 1\n",
    "    Xs = np.stack(Xs).astype(np.float32)\n",
    "    Ys = np.stack(Ys).astype(np.float32)\n",
    "    return Xs, Ys\n",
    "\n",
    "Xt, Yt = make_sequences(split_tracks(test), t_in=T_IN, horizons=HORIZONS)\n",
    "\n",
    "DEVICE = torch.device(\"cuda\" if torch.cuda.is_available() else \"cpu\")\n",
    "\n",
    "# model definition must match 03\n",
    "class LSTMForecaster(nn.Module):\n",
    "    def __init__(self, in_dim, hidden=128, layers=2, dropout=0.1, horizons=3, out_dim=6):\n",
    "        super().__init__()\n",
    "        self.lstm = nn.LSTM(in_dim, hidden, num_layers=layers, dropout=dropout if layers>1 else 0.0, batch_first=True)\n",
    "        self.head = nn.Sequential(nn.Linear(hidden, hidden), nn.ReLU(), nn.Linear(hidden, horizons*out_dim))\n",
    "        self.horizons=horizons; self.out_dim=out_dim\n",
    "    def forward(self, x):\n",
    "        _, (hn, _) = self.lstm(x)\n",
    "        h = hn[-1]\n",
    "        y = self.head(h).view(-1, self.horizons, self.out_dim)\n",
    "        return y\n",
    "\n",
    "model = LSTMForecaster(in_dim=len(FEATURES), horizons=len(HORIZONS), out_dim=len(FEATURES)).to(DEVICE)\n",
    "ckpt = torch.load(MODEL_DIR/\"lstm_blackhole_best.pt\", map_location=DEVICE)\n",
    "model.load_state_dict(ckpt[\"model\"]); model.eval();\n",
    "\n",
    "Xt_t = torch.from_numpy(Xt).to(DEVICE)  # [N,T,F]\n",
    "Yt_t = torch.from_numpy(Yt).to(DEVICE)  # [N,H,F]\n",
    "\n",
    "Xt.shape, Yt.shape\n"
   ]
  },
  {
   "cell_type": "code",
   "execution_count": 2,
   "id": "13d026c3-2a53-44a1-887d-9ae4c5803711",
   "metadata": {
    "tags": []
   },
   "outputs": [
    {
     "data": {
      "text/html": [
       "<div>\n",
       "<style scoped>\n",
       "    .dataframe tbody tr th:only-of-type {\n",
       "        vertical-align: middle;\n",
       "    }\n",
       "\n",
       "    .dataframe tbody tr th {\n",
       "        vertical-align: top;\n",
       "    }\n",
       "\n",
       "    .dataframe thead th {\n",
       "        text-align: right;\n",
       "    }\n",
       "</style>\n",
       "<table border=\"1\" class=\"dataframe\">\n",
       "  <thead>\n",
       "    <tr style=\"text-align: right;\">\n",
       "      <th></th>\n",
       "      <th>feature</th>\n",
       "      <th>delta_rmse</th>\n",
       "    </tr>\n",
       "  </thead>\n",
       "  <tbody>\n",
       "    <tr>\n",
       "      <th>0</th>\n",
       "      <td>bh_mass</td>\n",
       "      <td>0.346268</td>\n",
       "    </tr>\n",
       "    <tr>\n",
       "      <th>1</th>\n",
       "      <td>bh_acc</td>\n",
       "      <td>0.026260</td>\n",
       "    </tr>\n",
       "    <tr>\n",
       "      <th>2</th>\n",
       "      <td>stellar_mass</td>\n",
       "      <td>0.005203</td>\n",
       "    </tr>\n",
       "    <tr>\n",
       "      <th>3</th>\n",
       "      <td>sfr</td>\n",
       "      <td>0.000587</td>\n",
       "    </tr>\n",
       "    <tr>\n",
       "      <th>4</th>\n",
       "      <td>halo_mass</td>\n",
       "      <td>0.000313</td>\n",
       "    </tr>\n",
       "    <tr>\n",
       "      <th>5</th>\n",
       "      <td>vel_disp</td>\n",
       "      <td>0.000130</td>\n",
       "    </tr>\n",
       "  </tbody>\n",
       "</table>\n",
       "</div>"
      ],
      "text/plain": [
       "        feature  delta_rmse\n",
       "0       bh_mass    0.346268\n",
       "1        bh_acc    0.026260\n",
       "2  stellar_mass    0.005203\n",
       "3           sfr    0.000587\n",
       "4     halo_mass    0.000313\n",
       "5      vel_disp    0.000130"
      ]
     },
     "execution_count": 2,
     "metadata": {},
     "output_type": "execute_result"
    }
   ],
   "source": [
    "@torch.no_grad()\n",
    "def rmse_overall(model, X, Y):\n",
    "    P = model(X).cpu().numpy()\n",
    "    return float(np.sqrt(((P - Y.cpu().numpy())**2).mean()))\n",
    "\n",
    "base_rmse = rmse_overall(model, Xt_t, Yt_t)\n",
    "\n",
    "rng = np.random.default_rng(0)\n",
    "importances = []\n",
    "for j, feat in enumerate(FEATURES):\n",
    "    Xperm = Xt.copy()\n",
    "    # permute feature j across samples but preserve time structure within a sample\n",
    "    perm_idx = rng.permutation(Xperm.shape[0])\n",
    "    Xperm[:, :, j] = Xperm[perm_idx, :, j]\n",
    "    rmse_perm = rmse_overall(model, torch.from_numpy(Xperm).to(DEVICE), Yt_t)\n",
    "    importances.append({\"feature\": feat, \"delta_rmse\": rmse_perm - base_rmse})\n",
    "\n",
    "imp_df = pd.DataFrame(importances).sort_values(\"delta_rmse\", ascending=False)\n",
    "imp_df.to_csv(TABLE_DIR/\"permutation_importance_overall.csv\", index=False)\n",
    "imp_df\n"
   ]
  },
  {
   "cell_type": "code",
   "execution_count": 3,
   "id": "b86a8dbe-54bd-480d-962f-2329ae8dbefe",
   "metadata": {
    "tags": []
   },
   "outputs": [
    {
     "data": {
      "text/plain": [
       "PosixPath('../reports/figures/perm_importance_overall.png')"
      ]
     },
     "execution_count": 3,
     "metadata": {},
     "output_type": "execute_result"
    }
   ],
   "source": [
    "fig, ax = plt.subplots(figsize=(7.8,4.8))\n",
    "ax.bar(range(len(imp_df)), imp_df[\"delta_rmse\"].values)\n",
    "ax.set_xticks(range(len(imp_df)))\n",
    "ax.set_xticklabels([NAME_MAP[f] for f in imp_df[\"feature\"]], rotation=30, ha=\"right\")\n",
    "ax.set_ylabel(\"Δ RMSE (z-scored)\")\n",
    "ax.set_title(\"Permutation Feature Importance (Overall)\")\n",
    "plt.tight_layout()\n",
    "fig.savefig(FIG_DIR/\"perm_importance_overall.png\", dpi=300, bbox_inches=\"tight\")\n",
    "plt.close(fig)\n",
    "FIG_DIR/\"perm_importance_overall.png\"\n"
   ]
  },
  {
   "cell_type": "code",
   "execution_count": 4,
   "id": "e9b7e246-4d87-40c8-9089-b38582f95b7a",
   "metadata": {
    "tags": []
   },
   "outputs": [
    {
     "data": {
      "text/html": [
       "<div>\n",
       "<style scoped>\n",
       "    .dataframe tbody tr th:only-of-type {\n",
       "        vertical-align: middle;\n",
       "    }\n",
       "\n",
       "    .dataframe tbody tr th {\n",
       "        vertical-align: top;\n",
       "    }\n",
       "\n",
       "    .dataframe thead th {\n",
       "        text-align: right;\n",
       "    }\n",
       "</style>\n",
       "<table border=\"1\" class=\"dataframe\">\n",
       "  <thead>\n",
       "    <tr style=\"text-align: right;\">\n",
       "      <th></th>\n",
       "      <th>feature</th>\n",
       "      <th>effect</th>\n",
       "    </tr>\n",
       "  </thead>\n",
       "  <tbody>\n",
       "    <tr>\n",
       "      <th>4</th>\n",
       "      <td>halo_mass</td>\n",
       "      <td>0.010336</td>\n",
       "    </tr>\n",
       "    <tr>\n",
       "      <th>3</th>\n",
       "      <td>sfr</td>\n",
       "      <td>0.008526</td>\n",
       "    </tr>\n",
       "    <tr>\n",
       "      <th>2</th>\n",
       "      <td>stellar_mass</td>\n",
       "      <td>0.007460</td>\n",
       "    </tr>\n",
       "    <tr>\n",
       "      <th>1</th>\n",
       "      <td>bh_acc</td>\n",
       "      <td>0.007085</td>\n",
       "    </tr>\n",
       "    <tr>\n",
       "      <th>0</th>\n",
       "      <td>bh_mass</td>\n",
       "      <td>0.007018</td>\n",
       "    </tr>\n",
       "    <tr>\n",
       "      <th>5</th>\n",
       "      <td>vel_disp</td>\n",
       "      <td>0.006758</td>\n",
       "    </tr>\n",
       "  </tbody>\n",
       "</table>\n",
       "</div>"
      ],
      "text/plain": [
       "        feature    effect\n",
       "4     halo_mass  0.010336\n",
       "3           sfr  0.008526\n",
       "2  stellar_mass  0.007460\n",
       "1        bh_acc  0.007085\n",
       "0       bh_mass  0.007018\n",
       "5      vel_disp  0.006758"
      ]
     },
     "execution_count": 4,
     "metadata": {},
     "output_type": "execute_result"
    }
   ],
   "source": [
    "@torch.no_grad()\n",
    "def overall_change_for_perturb(model, X, Y, j, ksig=1.0):\n",
    "    # add +ksig to feature j across the sequence\n",
    "    Xp = X.clone()\n",
    "    Xm = X.clone()\n",
    "    Xp[:,:,j] += ksig\n",
    "    Xm[:,:,j] -= ksig\n",
    "    Pp = model(Xp).cpu().numpy()\n",
    "    Pm = model(Xm).cpu().numpy()\n",
    "    # quantify effect size as average absolute change in predictions\n",
    "    eff = float(np.mean(np.abs(Pp - Pm)/2.0))\n",
    "    return eff\n",
    "\n",
    "sens = []\n",
    "for j, feat in enumerate(FEATURES):\n",
    "    eff = overall_change_for_perturb(model, Xt_t, Yt_t, j, ksig=1.0)\n",
    "    sens.append({\"feature\": feat, \"effect\": eff})\n",
    "\n",
    "sens_df = pd.DataFrame(sens).sort_values(\"effect\", ascending=False)\n",
    "sens_df.to_csv(TABLE_DIR/\"sensitivity_plusminus1sigma.csv\", index=False)\n",
    "sens_df\n"
   ]
  },
  {
   "cell_type": "code",
   "execution_count": 5,
   "id": "eb3a0544-5675-4a6d-9456-cf952ed8c4df",
   "metadata": {
    "tags": []
   },
   "outputs": [
    {
     "data": {
      "text/plain": [
       "PosixPath('../reports/figures/sensitivity_pm1sigma.png')"
      ]
     },
     "execution_count": 5,
     "metadata": {},
     "output_type": "execute_result"
    }
   ],
   "source": [
    "fig, ax = plt.subplots(figsize=(7.8,4.8))\n",
    "ax.bar(range(len(sens_df)), sens_df[\"effect\"].values)\n",
    "ax.set_xticks(range(len(sens_df)))\n",
    "ax.set_xticklabels([NAME_MAP[f] for f in sens_df[\"feature\"]], rotation=30, ha=\"right\")\n",
    "ax.set_ylabel(\"Avg |Δ prediction| (z-scored)\")\n",
    "ax.set_title(\"Sensitivity to ±1σ Input Perturbations\")\n",
    "plt.tight_layout()\n",
    "fig.savefig(FIG_DIR/\"sensitivity_pm1sigma.png\", dpi=300, bbox_inches=\"tight\")\n",
    "plt.close(fig)\n",
    "FIG_DIR/\"sensitivity_pm1sigma.png\"\n"
   ]
  },
  {
   "cell_type": "code",
   "execution_count": null,
   "id": "103dc1e3-2c5e-4604-b67b-7b8ae3036902",
   "metadata": {},
   "outputs": [],
   "source": []
  }
 ],
 "metadata": {
  "kernelspec": {
   "display_name": "Python 3 (ipykernel)",
   "language": "python",
   "name": "python3"
  },
  "language_info": {
   "codemirror_mode": {
    "name": "ipython",
    "version": 3
   },
   "file_extension": ".py",
   "mimetype": "text/x-python",
   "name": "python",
   "nbconvert_exporter": "python",
   "pygments_lexer": "ipython3",
   "version": "3.11.4"
  }
 },
 "nbformat": 4,
 "nbformat_minor": 5
}
