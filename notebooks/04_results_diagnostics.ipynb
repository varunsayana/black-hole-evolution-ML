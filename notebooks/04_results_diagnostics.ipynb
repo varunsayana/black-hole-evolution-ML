{
 "cells": [
  {
   "cell_type": "code",
   "execution_count": 4,
   "id": "99ffd13c-b00d-48f5-b125-1fe3d9e35163",
   "metadata": {
    "tags": []
   },
   "outputs": [],
   "source": [
    "from pathlib import Path\n",
    "import numpy as np, pandas as pd, matplotlib.pyplot as plt, json\n",
    "from sklearn.metrics import r2_score\n",
    "PROC = Path(\"../data/processed\"); ARR = Path(\"../reports/tables\"); FIG = Path(\"../reports/figures\"); TAB = Path(\"../reports/tables\")\n",
    "FIG.mkdir(parents=True,exist_ok=True); TAB.mkdir(parents=True,exist_ok=True)\n",
    "FEATURES = [\"bh_mass\",\"bh_acc\",\"stellar_mass\",\"sfr\",\"halo_mass\",\"vel_disp\"]\n",
    "HORIZON_LABELS = [\"H1\",\"H3\",\"H5\"]\n",
    "MU = np.load(PROC/\"scaler_mean.npy\"); SD = np.load(PROC/\"scaler_scale.npy\"); TRANSFORM = json.loads((PROC/\"transform_config.json\").read_text())\n",
    "def inv_z_mat(Z): return Z*SD + MU\n",
    "def inv_forward(a,name):\n",
    "    t=TRANSFORM[name][\"type\"]\n",
    "    if t==\"log10_floor\":\n",
    "        floor=TRANSFORM[name][\"floor\"]\n",
    "        return np.maximum(10.0**a,floor)\n",
    "    return a\n",
    "def rmse(a,b,axis=None): return np.sqrt(np.mean((a-b)**2,axis=axis))\n",
    "Y_true_z = np.load(ARR/\"Y_true_z.npy\")\n",
    "Y_pred_z = np.load(ARR/\"Y_pred_z.npy\")\n",
    "Xt_z = np.load(ARR/\"Xt_z.npy\")\n"
   ]
  },
  {
   "cell_type": "code",
   "execution_count": 5,
   "id": "2f1e298f-1439-4522-889a-5e0b5e0ad89e",
   "metadata": {
    "tags": []
   },
   "outputs": [
    {
     "data": {
      "text/plain": [
       "(     bh_mass    bh_acc  stellar_mass       sfr  halo_mass  vel_disp\n",
       " H1  0.456114  0.437896      0.132786  0.563527   0.235452  0.226329\n",
       " H3  0.576406  0.537377      0.261931  0.461727   0.451612  0.325954\n",
       " H5  0.525281  0.497619      0.289212  0.426366   0.600853  0.354014,\n",
       "      bh_mass    bh_acc  stellar_mass       sfr  halo_mass   vel_disp\n",
       " H1  0.033011  0.020150      0.102649  6.465689   6.188580   6.529059\n",
       " H3  0.004635  0.011077      0.202484  5.297684  11.870134   9.402980\n",
       " H5  0.005330  0.009409      0.223573  4.891962  15.792757  10.212455)"
      ]
     },
     "execution_count": 5,
     "metadata": {},
     "output_type": "execute_result"
    }
   ],
   "source": [
    "H = Y_true_z.shape[1]; F = Y_true_z.shape[2]\n",
    "rmse_z = np.zeros((H,F)); rmse_phys = np.zeros((H,F))\n",
    "for h in range(H):\n",
    "    rmse_z[h,:] = rmse(Y_true_z[:,h,:], Y_pred_z[:,h,:], axis=0)\n",
    "    Zt = inv_z_mat(Y_true_z[:,h,:]); Zp = inv_z_mat(Y_pred_z[:,h,:])\n",
    "    Yt = np.zeros_like(Zt); Yp = np.zeros_like(Zp)\n",
    "    for j,name in enumerate(FEATURES):\n",
    "        Yt[:,j] = inv_forward(Zt[:,j], name)\n",
    "        Yp[:,j] = inv_forward(Zp[:,j], name)\n",
    "    rmse_phys[h,:] = rmse(Yt, Yp, axis=0)\n",
    "rmse_z_df = pd.DataFrame(rmse_z, columns=FEATURES, index=HORIZON_LABELS)\n",
    "rmse_phys_df = pd.DataFrame(rmse_phys, columns=FEATURES, index=HORIZON_LABELS)\n",
    "rmse_z_df.to_csv(TAB/\"rmse_test_lstm_z_FIXED.csv\")\n",
    "rmse_phys_df.to_csv(TAB/\"rmse_test_lstm_physical_FIXED.csv\")\n",
    "rmse_z_df, rmse_phys_df\n"
   ]
  },
  {
   "cell_type": "code",
   "execution_count": 6,
   "id": "a9ab83be-84aa-492c-8708-73a1edeeaa16",
   "metadata": {
    "tags": []
   },
   "outputs": [],
   "source": [
    "plt.figure(figsize=(6,4))\n",
    "plt.plot([1,3,5], rmse_z_df.mean(axis=1).values, marker=\"o\")\n",
    "plt.xlabel(\"Horizon Δ\"); plt.ylabel(\"RMSE (z)\"); plt.title(\"RMSE vs Horizon — LSTM\")\n",
    "plt.xticks([1,3,5], HORIZON_LABELS)\n",
    "plt.tight_layout()\n",
    "plt.savefig(FIG/\"rmse_vs_horizon_lstm_FIXED.png\", dpi=300, bbox_inches=\"tight\")\n",
    "plt.close()\n"
   ]
  },
  {
   "cell_type": "code",
   "execution_count": 7,
   "id": "23c26c9c-da49-49e8-9063-d7f98d5299b7",
   "metadata": {
    "tags": []
   },
   "outputs": [
    {
     "data": {
      "text/plain": [
       "'ok'"
      ]
     },
     "execution_count": 7,
     "metadata": {},
     "output_type": "execute_result"
    }
   ],
   "source": [
    "h=0\n",
    "vals_z = rmse_z_df.iloc[h].values\n",
    "vals_p = rmse_phys_df.iloc[h].values\n",
    "fig,ax=plt.subplots(figsize=(8,4)); ax.bar(FEATURES, vals_z); ax.set_ylabel(\"RMSE (z)\"); ax.set_title(\"RMSE by Feature (H=1, z)\"); plt.xticks(rotation=30,ha=\"right\"); plt.tight_layout(); plt.savefig(FIG/\"rmse_h1_feature_lstm_z_FIXED.png\",dpi=300,bbox_inches=\"tight\"); plt.close(fig)\n",
    "fig,ax=plt.subplots(figsize=(8,4)); ax.bar(FEATURES, vals_p); ax.set_ylabel(\"RMSE (physical)\"); ax.set_title(\"RMSE by Feature (H=1, physical)\"); plt.xticks(rotation=30,ha=\"right\"); plt.tight_layout(); plt.savefig(FIG/\"rmse_h1_feature_lstm_phys_FIXED.png\",dpi=300,bbox_inches=\"tight\"); plt.close(fig)\n",
    "\"ok\"\n"
   ]
  },
  {
   "cell_type": "code",
   "execution_count": 8,
   "id": "9acd76a5-cc03-4bf0-bbc0-d6d80afd87aa",
   "metadata": {
    "tags": []
   },
   "outputs": [
    {
     "data": {
      "text/plain": [
       "'ok'"
      ]
     },
     "execution_count": 8,
     "metadata": {},
     "output_type": "execute_result"
    }
   ],
   "source": [
    "h=0\n",
    "Zt = inv_z_mat(Y_true_z[:,h,:]); Zp = inv_z_mat(Y_pred_z[:,h,:])\n",
    "Yt = np.zeros_like(Zt); Yp = np.zeros_like(Zp)\n",
    "for j,name in enumerate(FEATURES):\n",
    "    Yt[:,j] = inv_forward(Zt[:,j], name)\n",
    "    Yp[:,j] = inv_forward(Zp[:,j], name)\n",
    "for j,name in enumerate(FEATURES):\n",
    "    x = Yt[:,j]; y = Yp[:,j]\n",
    "    lo,hi = np.quantile(np.concatenate([x,y]), [0.01,0.99])\n",
    "    fig,ax=plt.subplots(figsize=(5.8,5.2))\n",
    "    ax.hexbin(x,y,gridsize=60,mincnt=1)\n",
    "    ax.plot([lo,hi],[lo,hi],\"--\",lw=2)\n",
    "    r2 = r2_score(x,y); r = rmse(x,y)\n",
    "    ax.set_title(f\"Parity H1 — {name}  R²={r2:.3f}  RMSE={r:.3g}\")\n",
    "    ax.set_xlabel(f\"True {name}\"); ax.set_ylabel(f\"Pred {name}\")\n",
    "    ax.set_xlim(lo,hi); ax.set_ylim(lo,hi)\n",
    "    plt.tight_layout()\n",
    "    plt.savefig(FIG/f\"parity_H1_{name}_FIXED.png\", dpi=300, bbox_inches=\"tight\")\n",
    "    plt.close(fig)\n",
    "\"ok\"\n"
   ]
  },
  {
   "cell_type": "code",
   "execution_count": 9,
   "id": "aa28da7e-a2b8-44c9-a01d-1aa4a7b15fe2",
   "metadata": {
    "tags": []
   },
   "outputs": [
    {
     "data": {
      "text/plain": [
       "'ok'"
      ]
     },
     "execution_count": 9,
     "metadata": {},
     "output_type": "execute_result"
    }
   ],
   "source": [
    "Yp_pers_z = np.repeat(Xt_z[:,None,:], repeats=Y_true_z.shape[1], axis=1)\n",
    "def dump_rmse_tables(Y_true_z,Y_pred_z,tag):\n",
    "    H = Y_true_z.shape[1]; F = Y_true_z.shape[2]\n",
    "    rz = np.zeros((H,F)); rp = np.zeros((H,F))\n",
    "    for h in range(H):\n",
    "        rz[h,:] = rmse(Y_true_z[:,h,:], Y_pred_z[:,h,:], axis=0)\n",
    "        Zt = inv_z_mat(Y_true_z[:,h,:]); Zp = inv_z_mat(Y_pred_z[:,h,:])\n",
    "        Yt = np.zeros_like(Zt); Yp = np.zeros_like(Zp)\n",
    "        for j,name in enumerate(FEATURES):\n",
    "            Yt[:,j] = inv_forward(Zt[:,j], name)\n",
    "            Yp[:,j] = inv_forward(Zp[:,j], name)\n",
    "        rp[h,:] = rmse(Yt, Yp, axis=0)\n",
    "    pd.DataFrame(rz,columns=FEATURES,index=HORIZON_LABELS).to_csv(TAB/f\"rmse_{tag}_z_FIXED.csv\")\n",
    "    pd.DataFrame(rp,columns=FEATURES,index=HORIZON_LABELS).to_csv(TAB/f\"rmse_{tag}_phys_FIXED.csv\")\n",
    "dump_rmse_tables(Y_true_z, Yp_pers_z, \"persistence\")\n",
    "\"ok\"\n"
   ]
  },
  {
   "cell_type": "code",
   "execution_count": 10,
   "id": "d938861f-a0f8-41f6-aabd-6d79df81f309",
   "metadata": {
    "tags": []
   },
   "outputs": [],
   "source": [
    "hist = pd.read_csv(TAB/\"training_history.csv\")\n",
    "plt.figure(figsize=(6.4,4))\n",
    "plt.plot(hist[\"epoch\"],hist[\"train\"],label=\"train\")\n",
    "plt.plot(hist[\"epoch\"],hist[\"val\"],label=\"val\")\n",
    "plt.xlabel(\"Epoch\"); plt.ylabel(\"MSE\"); plt.title(\"Convergence\"); plt.legend(); plt.tight_layout()\n",
    "plt.savefig(FIG/\"lstm_convergence_FIXED.png\", dpi=300, bbox_inches=\"tight\")\n",
    "plt.close()\n"
   ]
  },
  {
   "cell_type": "code",
   "execution_count": 11,
   "id": "e4c8cfac-9cea-4541-8009-637a1163f645",
   "metadata": {
    "tags": []
   },
   "outputs": [],
   "source": [
    "plt.figure(figsize=(6.4,3.6))\n",
    "plt.plot(hist[\"epoch\"],hist[\"lr\"])\n",
    "plt.xlabel(\"Epoch\"); plt.ylabel(\"LR\"); plt.title(\"Learning Rate Schedule\"); plt.tight_layout()\n",
    "plt.savefig(FIG/\"learning_rate_schedule_FIXED.png\", dpi=300, bbox_inches=\"tight\")\n",
    "plt.close()\n"
   ]
  },
  {
   "cell_type": "code",
   "execution_count": 12,
   "id": "245407cd-8be4-4386-a34f-9fadc9eff103",
   "metadata": {
    "tags": []
   },
   "outputs": [],
   "source": [
    "lstm_overall = pd.read_csv(TAB/\"rmse_test_lstm_z_FIXED.csv\",index_col=0).mean(axis=1).values\n",
    "pers_overall = pd.read_csv(TAB/\"rmse_persistence_z_FIXED.csv\",index_col=0).mean(axis=1).values\n",
    "plt.figure(figsize=(6,4))\n",
    "plt.plot([1,3,5], lstm_overall, marker=\"o\", label=\"LSTM\")\n",
    "plt.plot([1,3,5], pers_overall, marker=\"o\", label=\"Persistence\")\n",
    "plt.xlabel(\"Horizon Δ\"); plt.ylabel(\"RMSE (z)\"); plt.title(\"Model Comparison (Lower Better)\")\n",
    "plt.xticks([1,3,5], HORIZON_LABELS); plt.legend(); plt.tight_layout()\n",
    "plt.savefig(FIG/\"model_comparison_rmse_vs_horizon_FIXED.png\", dpi=300, bbox_inches=\"tight\")\n",
    "plt.close()\n"
   ]
  },
  {
   "cell_type": "code",
   "execution_count": 13,
   "id": "4090d46e-a4ba-4c62-ae9c-18c57c469226",
   "metadata": {
    "tags": []
   },
   "outputs": [
    {
     "data": {
      "text/plain": [
       "{'best_val_mse': 0.1567917232556193, 'epochs_run': 44}"
      ]
     },
     "execution_count": 13,
     "metadata": {},
     "output_type": "execute_result"
    }
   ],
   "source": [
    "summ = {\"best_val_mse\": float(hist[\"val\"].min()), \"epochs_run\": int(hist[\"epoch\"].max())}\n",
    "Path(\"../reports/exports\").mkdir(parents=True,exist_ok=True)\n",
    "Path(\"../reports/exports/results_summary_FIXED.json\").write_text(json.dumps(summ,indent=2))\n",
    "summ\n"
   ]
  },
  {
   "cell_type": "code",
   "execution_count": null,
   "id": "9f34bb11-5afc-4066-bdf6-2c2e37aa8102",
   "metadata": {},
   "outputs": [],
   "source": []
  }
 ],
 "metadata": {
  "kernelspec": {
   "display_name": "Python 3 (ipykernel)",
   "language": "python",
   "name": "python3"
  },
  "language_info": {
   "codemirror_mode": {
    "name": "ipython",
    "version": 3
   },
   "file_extension": ".py",
   "mimetype": "text/x-python",
   "name": "python",
   "nbconvert_exporter": "python",
   "pygments_lexer": "ipython3",
   "version": "3.11.4"
  }
 },
 "nbformat": 4,
 "nbformat_minor": 5
}
