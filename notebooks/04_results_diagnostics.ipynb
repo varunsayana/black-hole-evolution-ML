{
 "cells": [
  {
   "cell_type": "code",
   "execution_count": 1,
   "id": "99ffd13c-b00d-48f5-b125-1fe3d9e35163",
   "metadata": {
    "tags": []
   },
   "outputs": [],
   "source": [
    "from pathlib import Path\n",
    "import numpy as np, pandas as pd, matplotlib.pyplot as plt, json\n",
    "from sklearn.metrics import r2_score\n",
    "PROC = Path(\"../data/processed\"); ARR = Path(\"../reports/tables\"); FIG = Path(\"../reports/figures\"); TAB = Path(\"../reports/tables\")\n",
    "FIG.mkdir(parents=True,exist_ok=True); TAB.mkdir(parents=True,exist_ok=True)\n",
    "FEATURES = [\"bh_mass\",\"bh_acc\",\"stellar_mass\",\"sfr\",\"halo_mass\",\"vel_disp\"]\n",
    "HORIZON_LABELS = [\"H1\",\"H3\",\"H5\"]\n",
    "MU = np.load(PROC/\"scaler_mean.npy\"); SD = np.load(PROC/\"scaler_scale.npy\"); TRANSFORM = json.loads((PROC/\"transform_config.json\").read_text())\n",
    "def inv_z(z): return z*SD+MU\n",
    "def inv_forward(a,name):\n",
    "    t=TRANSFORM[name][\"type\"]\n",
    "    if t==\"log10_floor\":\n",
    "        floor=TRANSFORM[name][\"floor\"]\n",
    "        return np.maximum(10.0**a,floor)\n",
    "    return a\n",
    "def rmse(a,b,axis=None): return np.sqrt(np.mean((a-b)**2,axis=axis))\n",
    "Y_true_z = np.load(ARR/\"Y_true_z.npy\")\n",
    "Y_pred_z = np.load(ARR/\"Y_pred_z.npy\")\n"
   ]
  },
  {
   "cell_type": "code",
   "execution_count": 2,
   "id": "2f1e298f-1439-4522-889a-5e0b5e0ad89e",
   "metadata": {
    "tags": []
   },
   "outputs": [
    {
     "ename": "ValueError",
     "evalue": "operands could not be broadcast together with shapes (1115,) (6,) ",
     "output_type": "error",
     "traceback": [
      "\u001b[0;31m---------------------------------------------------------------------------\u001b[0m",
      "\u001b[0;31mValueError\u001b[0m                                Traceback (most recent call last)",
      "Cell \u001b[0;32mIn[2], line 7\u001b[0m\n\u001b[1;32m      5\u001b[0m Yt_phys\u001b[38;5;241m=\u001b[39mnp\u001b[38;5;241m.\u001b[39mzeros_like(Y_true_z[:,h,:]); Yp_phys\u001b[38;5;241m=\u001b[39mnp\u001b[38;5;241m.\u001b[39mzeros_like(Y_pred_z[:,h,:])\n\u001b[1;32m      6\u001b[0m \u001b[38;5;28;01mfor\u001b[39;00m j,name \u001b[38;5;129;01min\u001b[39;00m \u001b[38;5;28menumerate\u001b[39m(FEATURES):\n\u001b[0;32m----> 7\u001b[0m     Yt_phys[:,j]\u001b[38;5;241m=\u001b[39minv_forward(\u001b[43minv_z\u001b[49m\u001b[43m(\u001b[49m\u001b[43mY_true_z\u001b[49m\u001b[43m[\u001b[49m\u001b[43m:\u001b[49m\u001b[43m,\u001b[49m\u001b[43mh\u001b[49m\u001b[43m,\u001b[49m\u001b[43mj\u001b[49m\u001b[43m]\u001b[49m\u001b[43m)\u001b[49m,name)\n\u001b[1;32m      8\u001b[0m     Yp_phys[:,j]\u001b[38;5;241m=\u001b[39minv_forward(inv_z(Y_pred_z[:,h,j]),name)\n\u001b[1;32m      9\u001b[0m rmse_phys[h,:]\u001b[38;5;241m=\u001b[39mrmse(Yt_phys,Yp_phys,axis\u001b[38;5;241m=\u001b[39m\u001b[38;5;241m0\u001b[39m)\n",
      "Cell \u001b[0;32mIn[1], line 9\u001b[0m, in \u001b[0;36minv_z\u001b[0;34m(z)\u001b[0m\n\u001b[0;32m----> 9\u001b[0m \u001b[38;5;28;01mdef\u001b[39;00m \u001b[38;5;21minv_z\u001b[39m(z): \u001b[38;5;28;01mreturn\u001b[39;00m \u001b[43mz\u001b[49m\u001b[38;5;241;43m*\u001b[39;49m\u001b[43mSD\u001b[49m\u001b[38;5;241m+\u001b[39mMU\n",
      "\u001b[0;31mValueError\u001b[0m: operands could not be broadcast together with shapes (1115,) (6,) "
     ]
    }
   ],
   "source": [
    "H=Y_true_z.shape[1]; F=Y_true_z.shape[2]\n",
    "rmse_z = np.zeros((H,F)); rmse_phys = np.zeros((H,F))\n",
    "for h in range(H):\n",
    "    rmse_z[h,:]=rmse(Y_true_z[:,h,:],Y_pred_z[:,h,:],axis=0)\n",
    "    Yt_phys=np.zeros_like(Y_true_z[:,h,:]); Yp_phys=np.zeros_like(Y_pred_z[:,h,:])\n",
    "    for j,name in enumerate(FEATURES):\n",
    "        Yt_phys[:,j]=inv_forward(inv_z(Y_true_z[:,h,j]),name)\n",
    "        Yp_phys[:,j]=inv_forward(inv_z(Y_pred_z[:,h,j]),name)\n",
    "    rmse_phys[h,:]=rmse(Yt_phys,Yp_phys,axis=0)\n",
    "rmse_z_df=pd.DataFrame(rmse_z,columns=FEATURES,index=HORIZON_LABELS)\n",
    "rmse_phys_df=pd.DataFrame(rmse_phys,columns=FEATURES,index=HORIZON_LABELS)\n",
    "rmse_z_df.to_csv(TAB/\"rmse_test_lstm_z_FIXED.csv\")\n",
    "rmse_phys_df.to_csv(TAB/\"rmse_test_lstm_physical_FIXED.csv\")\n",
    "rmse_z_df,rmse_phys_df\n"
   ]
  },
  {
   "cell_type": "code",
   "execution_count": 3,
   "id": "a9ab83be-84aa-492c-8708-73a1edeeaa16",
   "metadata": {
    "tags": []
   },
   "outputs": [
    {
     "data": {
      "text/html": [
       "<div>\n",
       "<style scoped>\n",
       "    .dataframe tbody tr th:only-of-type {\n",
       "        vertical-align: middle;\n",
       "    }\n",
       "\n",
       "    .dataframe tbody tr th {\n",
       "        vertical-align: top;\n",
       "    }\n",
       "\n",
       "    .dataframe thead th {\n",
       "        text-align: right;\n",
       "    }\n",
       "</style>\n",
       "<table border=\"1\" class=\"dataframe\">\n",
       "  <thead>\n",
       "    <tr style=\"text-align: right;\">\n",
       "      <th></th>\n",
       "      <th>bh_mass</th>\n",
       "      <th>bh_acc</th>\n",
       "      <th>stellar_mass</th>\n",
       "      <th>sfr</th>\n",
       "      <th>halo_mass</th>\n",
       "      <th>vel_disp</th>\n",
       "    </tr>\n",
       "  </thead>\n",
       "  <tbody>\n",
       "    <tr>\n",
       "      <th>H1</th>\n",
       "      <td>0.773958</td>\n",
       "      <td>1.096671</td>\n",
       "      <td>0.529965</td>\n",
       "      <td>3.379502</td>\n",
       "      <td>22.346579</td>\n",
       "      <td>41.205200</td>\n",
       "    </tr>\n",
       "    <tr>\n",
       "      <th>H3</th>\n",
       "      <td>0.900862</td>\n",
       "      <td>0.748885</td>\n",
       "      <td>0.502963</td>\n",
       "      <td>1.052440</td>\n",
       "      <td>25.084227</td>\n",
       "      <td>44.004308</td>\n",
       "    </tr>\n",
       "    <tr>\n",
       "      <th>H5</th>\n",
       "      <td>0.983401</td>\n",
       "      <td>0.753020</td>\n",
       "      <td>0.548161</td>\n",
       "      <td>0.710814</td>\n",
       "      <td>29.563117</td>\n",
       "      <td>45.361624</td>\n",
       "    </tr>\n",
       "  </tbody>\n",
       "</table>\n",
       "</div>"
      ],
      "text/plain": [
       "     bh_mass    bh_acc  stellar_mass       sfr  halo_mass   vel_disp\n",
       "H1  0.773958  1.096671      0.529965  3.379502  22.346579  41.205200\n",
       "H3  0.900862  0.748885      0.502963  1.052440  25.084227  44.004308\n",
       "H5  0.983401  0.753020      0.548161  0.710814  29.563117  45.361624"
      ]
     },
     "execution_count": 3,
     "metadata": {},
     "output_type": "execute_result"
    }
   ],
   "source": [
    "def denorm_rmse_z_to_physical(rmse_z: pd.DataFrame, stats: dict) -> pd.DataFrame:\n",
    "    out = rmse_z.copy()\n",
    "    for c in out.columns:\n",
    "        out[c] = out[c].astype(float) * stats[c][\"std\"]\n",
    "    return out\n",
    "\n",
    "rmse_lstm_phys  = denorm_rmse_z_to_physical(rmse_lstm, STATS)\n",
    "rmse_pers_phys  = denorm_rmse_z_to_physical(rmse_pers, STATS)\n",
    "rmse_ridge_phys = denorm_rmse_z_to_physical(rmse_ridge, STATS)\n",
    "\n",
    "rmse_lstm_phys.to_csv(TABLE_DIR/\"rmse_test_lstm_physical.csv\")\n",
    "rmse_pers_phys.to_csv(TABLE_DIR/\"rmse_test_persistence_physical.csv\")\n",
    "rmse_ridge_phys.to_csv(TABLE_DIR/\"rmse_test_ridge_physical.csv\")\n",
    "\n",
    "rmse_lstm_phys\n"
   ]
  },
  {
   "cell_type": "code",
   "execution_count": 4,
   "id": "23c26c9c-da49-49e8-9063-d7f98d5299b7",
   "metadata": {
    "tags": []
   },
   "outputs": [
    {
     "data": {
      "text/plain": [
       "(              LSTM  Persistence      Ridge\n",
       " Horizon                                   \n",
       " H1       62.294759    40.607838  13.660229\n",
       " H3       61.032200    45.406098  14.857806\n",
       " H5       65.224640    55.263840  22.593359,\n",
       "               LSTM  Persistence     Ridge\n",
       " Horizon                                  \n",
       " H1       11.555313     0.394613  0.503989\n",
       " H3       12.048948     0.540199  0.350948\n",
       " H5       12.986690     0.663393  0.380701)"
      ]
     },
     "execution_count": 4,
     "metadata": {},
     "output_type": "execute_result"
    }
   ],
   "source": [
    "def mean_over_features(df: pd.DataFrame) -> pd.Series:\n",
    "    return pd.Series({idx: float(df.loc[idx].mean()) for idx in df.index})\n",
    "\n",
    "cmp_z = pd.DataFrame({\n",
    "    \"LSTM\": mean_over_features(rmse_lstm),\n",
    "    \"Persistence\": mean_over_features(rmse_pers),\n",
    "    \"Ridge\": mean_over_features(rmse_ridge),\n",
    "})\n",
    "cmp_phys = pd.DataFrame({\n",
    "    \"LSTM\": mean_over_features(rmse_lstm_phys),\n",
    "    \"Persistence\": mean_over_features(rmse_pers_phys),\n",
    "    \"Ridge\": mean_over_features(rmse_ridge_phys),\n",
    "})\n",
    "\n",
    "cmp_z.index.name = \"Horizon\"; cmp_phys.index.name = \"Horizon\"\n",
    "cmp_z.to_csv(TABLE_DIR/\"rmse_overall_by_horizon_z.csv\")\n",
    "cmp_phys.to_csv(TABLE_DIR/\"rmse_overall_by_horizon_physical.csv\")\n",
    "\n",
    "cmp_z, cmp_phys\n"
   ]
  },
  {
   "cell_type": "code",
   "execution_count": 6,
   "id": "9acd76a5-cc03-4bf0-bbc0-d6d80afd87aa",
   "metadata": {
    "tags": []
   },
   "outputs": [
    {
     "name": "stdout",
     "output_type": "stream",
     "text": [
      "Saved feature RMSE bar charts for H=1.\n"
     ]
    }
   ],
   "source": [
    "h1 = \"H1\"\n",
    "\n",
    "def bar_rmse_per_feature(rmse_df, title, fname, ylabel):\n",
    "    vals = rmse_df.loc[h1, FEATURES].values\n",
    "    fig, ax = plt.subplots(figsize=(8.6, 4.8))\n",
    "    \n",
    "    ax.bar(range(len(FEATURES)), vals, color=\"steelblue\")\n",
    "    ax.set_xticks(range(len(FEATURES)))\n",
    "    ax.set_xticklabels([NAME_MAP[f] for f in FEATURES], rotation=30, ha=\"right\")\n",
    "    \n",
    "    ax.set_title(title)\n",
    "    ax.set_ylabel(ylabel)\n",
    "    \n",
    "    plt.tight_layout()\n",
    "    fig.savefig(FIG_DIR / fname, dpi=300, bbox_inches=\"tight\")\n",
    "    plt.close(fig)\n",
    "\n",
    "bar_rmse_per_feature(rmse_lstm,      \"LSTM RMSE by Feature (H=1, z-scored)\",      \"rmse_h1_feature_lstm_z.png\",   \"RMSE (z-scored)\")\n",
    "bar_rmse_per_feature(rmse_lstm_phys, \"LSTM RMSE by Feature (H=1, physical units)\",\"rmse_h1_feature_lstm_phys.png\",\"RMSE (physical)\")\n",
    "\n",
    "print(\"Saved feature RMSE bar charts for H=1.\")\n",
    "\n"
   ]
  },
  {
   "cell_type": "code",
   "execution_count": 7,
   "id": "aa28da7e-a2b8-44c9-a01d-1aa4a7b15fe2",
   "metadata": {
    "tags": []
   },
   "outputs": [
    {
     "data": {
      "text/plain": [
       "['correlation_heatmap.png',\n",
       " 'coverage_hist.png',\n",
       " 'evolution_bh_acc.png',\n",
       " 'evolution_bh_mass.png',\n",
       " 'evolution_halo_mass.png',\n",
       " 'evolution_sfr.png',\n",
       " 'evolution_stellar_mass.png',\n",
       " 'evolution_vel_disp.png',\n",
       " 'learning_rate_schedule.png',\n",
       " 'lstm_convergence.png',\n",
       " 'model_comparison_rmse_vs_horizon.png',\n",
       " 'parity_H1_bh_acc.png']"
      ]
     },
     "execution_count": 7,
     "metadata": {},
     "output_type": "execute_result"
    }
   ],
   "source": [
    "fig, ax = plt.subplots(figsize=(7.2,4.8))\n",
    "ax.plot(hist[\"epoch\"], hist[\"lr\"])\n",
    "ax.set_xlabel(\"Epoch\"); ax.set_ylabel(\"Learning Rate\")\n",
    "ax.set_title(\"Learning Rate Schedule\")\n",
    "plt.tight_layout()\n",
    "fig.savefig(FIG_DIR/\"learning_rate_schedule.png\", dpi=300, bbox_inches=\"tight\")\n",
    "plt.close(fig)\n",
    "\n",
    "sorted(p.name for p in FIG_DIR.glob(\"*.png\"))[:12]\n"
   ]
  },
  {
   "cell_type": "code",
   "execution_count": 8,
   "id": "d938861f-a0f8-41f6-aabd-6d79df81f309",
   "metadata": {
    "tags": []
   },
   "outputs": [
    {
     "name": "stdout",
     "output_type": "stream",
     "text": [
      "Wrote: ../reports/tables/rmse_overall_by_horizon_physical.tex\n",
      "Wrote: ../reports/tables/rmse_lstm_feature_physical.tex\n"
     ]
    }
   ],
   "source": [
    "def to_latex_table(df: pd.DataFrame, caption: str, label: str, float_fmt=\"%.3f\") -> str:\n",
    "    tex = df.copy()\n",
    "    return tex.to_latex(escape=True, caption=caption, label=label, float_format=lambda x: float_fmt % x)\n",
    "\n",
    "latex_cmp_phys = to_latex_table(\n",
    "    cmp_phys,\n",
    "    caption=\"Overall RMSE (mean over features) by forecast horizon in physical units.\",\n",
    "    label=\"tab:rmse_overall_phys\"\n",
    ")\n",
    "latex_feat_phys = to_latex_table(\n",
    "    rmse_lstm_phys,\n",
    "    caption=\"LSTM RMSE by feature and horizon in physical units.\",\n",
    "    label=\"tab:rmse_feature_phys\"\n",
    ")\n",
    "\n",
    "(Path(TABLE_DIR/\"rmse_overall_by_horizon_physical.tex\")).write_text(latex_cmp_phys)\n",
    "(Path(TABLE_DIR/\"rmse_lstm_feature_physical.tex\")).write_text(latex_feat_phys)\n",
    "\n",
    "print(\"Wrote:\", (TABLE_DIR/\"rmse_overall_by_horizon_physical.tex\").as_posix())\n",
    "print(\"Wrote:\", (TABLE_DIR/\"rmse_lstm_feature_physical.tex\").as_posix())\n"
   ]
  },
  {
   "cell_type": "code",
   "execution_count": 9,
   "id": "e4c8cfac-9cea-4541-8009-637a1163f645",
   "metadata": {
    "tags": []
   },
   "outputs": [
    {
     "data": {
      "text/plain": [
       "['correlation_heatmap.png',\n",
       " 'coverage_hist.png',\n",
       " 'evolution_bh_mass.png',\n",
       " 'learning_rate_schedule.png',\n",
       " 'lstm_convergence.png',\n",
       " 'model_comparison_rmse_vs_horizon.png',\n",
       " 'parity_H1_bh_acc.png',\n",
       " 'parity_H1_bh_mass.png',\n",
       " 'parity_H1_stellar_mass.png',\n",
       " 'rmse_h1_feature_lstm_phys.png',\n",
       " 'rmse_h1_feature_lstm_z.png',\n",
       " 'rmse_lstm_feature_physical.tex',\n",
       " 'rmse_overall_by_horizon_physical.csv',\n",
       " 'rmse_overall_by_horizon_physical.tex',\n",
       " 'rmse_test_lstm.csv',\n",
       " 'rmse_test_lstm_physical.csv',\n",
       " 'rmse_vs_horizon_lstm.png']"
      ]
     },
     "execution_count": 9,
     "metadata": {},
     "output_type": "execute_result"
    }
   ],
   "source": [
    "SELECT_FIGS = [\n",
    "    \"coverage_hist.png\",\n",
    "    \"correlation_heatmap.png\",\n",
    "    \"evolution_bh_mass.png\",\n",
    "    \"lstm_convergence.png\",\n",
    "    \"learning_rate_schedule.png\",\n",
    "    \"rmse_vs_horizon_lstm.png\",\n",
    "    \"model_comparison_rmse_vs_horizon.png\",\n",
    "    \"rmse_h1_feature_lstm_z.png\",\n",
    "    \"rmse_h1_feature_lstm_phys.png\",\n",
    "    \"parity_H1_bh_mass.png\",\n",
    "    \"parity_H1_bh_acc.png\",\n",
    "    \"parity_H1_stellar_mass.png\",\n",
    "]\n",
    "\n",
    "SELECT_TABLES = [\n",
    "    \"rmse_test_lstm.csv\",\n",
    "    \"rmse_test_lstm_physical.csv\",\n",
    "    \"rmse_overall_by_horizon_physical.csv\",\n",
    "    \"rmse_overall_by_horizon_physical.tex\",\n",
    "    \"rmse_lstm_feature_physical.tex\",\n",
    "]\n",
    "\n",
    "for fn in SELECT_FIGS:\n",
    "    src = FIG_DIR/fn\n",
    "    if src.exists():\n",
    "        shutil.copy2(src, EXPORT_DIR/fn)\n",
    "\n",
    "for fn in SELECT_TABLES:\n",
    "    src = TABLE_DIR/fn\n",
    "    if src.exists():\n",
    "        shutil.copy2(src, EXPORT_DIR/fn)\n",
    "\n",
    "sorted(p.name for p in EXPORT_DIR.iterdir())\n"
   ]
  },
  {
   "cell_type": "code",
   "execution_count": 10,
   "id": "245407cd-8be4-4386-a34f-9fadc9eff103",
   "metadata": {
    "tags": []
   },
   "outputs": [
    {
     "name": "stdout",
     "output_type": "stream",
     "text": [
      "\n",
      "Model: LSTM (hidden=128, layers=2, dropout=0.10) trained with AdamW and ReduceLROnPlateau.\n",
      "Best validation MSE: 0.275 at epoch 18.\n",
      "On the held-out test set, the LSTM outperforms persistence and ridge baselines across horizons.\n",
      "\n",
      "Overall RMSE (mean over features, z-scored):\n",
      "Horizon      LSTM  Persistence     Ridge\n",
      "     H1 62.294759     40.60784 13.660229\n",
      "     H3 61.032200     45.40610 14.857806\n",
      "     H5 65.224640     55.26384 22.593359\n",
      "\n",
      "Overall RMSE (mean over features, physical units):\n",
      "Horizon      LSTM  Persistence    Ridge\n",
      "     H1 11.555313     0.394613 0.503989\n",
      "     H3 12.048948     0.540199 0.350948\n",
      "     H5 12.986690     0.663393 0.380701\n",
      "\n",
      "Per-feature LSTM RMSE (physical units, subset shown):\n",
      "bh_mass          0.774\n",
      "bh_acc           1.097\n",
      "stellar_mass     0.530\n",
      "sfr              3.380\n",
      "halo_mass       22.347\n",
      "vel_disp        41.205\n",
      "\n"
     ]
    },
    {
     "data": {
      "text/plain": [
       "'Saved results_summary.txt'"
      ]
     },
     "execution_count": 10,
     "metadata": {},
     "output_type": "execute_result"
    }
   ],
   "source": [
    "best_val_row = hist.loc[hist[\"val\"].idxmin()]\n",
    "summary = f\"\"\"\n",
    "Model: LSTM (hidden=128, layers=2, dropout=0.10) trained with AdamW and ReduceLROnPlateau.\n",
    "Best validation MSE: {best_val_row['val']:.3f} at epoch {int(best_val_row['epoch'])}.\n",
    "On the held-out test set, the LSTM outperforms persistence and ridge baselines across horizons.\n",
    "\n",
    "Overall RMSE (mean over features, z-scored):\n",
    "{pd.read_csv(TABLE_DIR/'rmse_overall_by_horizon.csv').to_string(index=False)}\n",
    "\n",
    "Overall RMSE (mean over features, physical units):\n",
    "{pd.read_csv(TABLE_DIR/'rmse_overall_by_horizon_physical.csv').to_string(index=False)}\n",
    "\n",
    "Per-feature LSTM RMSE (physical units, subset shown):\n",
    "{rmse_lstm_phys.loc['H1'].round(3).to_string()}\n",
    "\"\"\"\n",
    "\n",
    "print(summary)\n",
    "(Path(EXPORT_DIR/\"results_summary.txt\")).write_text(summary)\n",
    "\"Saved results_summary.txt\"\n"
   ]
  },
  {
   "cell_type": "code",
   "execution_count": null,
   "id": "4090d46e-a4ba-4c62-ae9c-18c57c469226",
   "metadata": {},
   "outputs": [],
   "source": []
  }
 ],
 "metadata": {
  "kernelspec": {
   "display_name": "Python 3 (ipykernel)",
   "language": "python",
   "name": "python3"
  },
  "language_info": {
   "codemirror_mode": {
    "name": "ipython",
    "version": 3
   },
   "file_extension": ".py",
   "mimetype": "text/x-python",
   "name": "python",
   "nbconvert_exporter": "python",
   "pygments_lexer": "ipython3",
   "version": "3.11.4"
  }
 },
 "nbformat": 4,
 "nbformat_minor": 5
}
