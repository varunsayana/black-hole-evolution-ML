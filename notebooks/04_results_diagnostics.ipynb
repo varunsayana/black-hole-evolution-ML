{
 "cells": [
  {
   "cell_type": "code",
   "execution_count": 1,
   "id": "99ffd13c-b00d-48f5-b125-1fe3d9e35163",
   "metadata": {
    "tags": []
   },
   "outputs": [
    {
     "data": {
      "text/plain": [
       "(PosixPath('../reports/figures'),\n",
       " PosixPath('../reports/tables'),\n",
       " PosixPath('../reports/exports'))"
      ]
     },
     "execution_count": 1,
     "metadata": {},
     "output_type": "execute_result"
    }
   ],
   "source": [
    "from pathlib import Path\n",
    "import numpy as np, pandas as pd\n",
    "import matplotlib.pyplot as plt\n",
    "import json, shutil\n",
    "\n",
    "# directories\n",
    "DATA_DIR   = Path(\"../data/processed\")\n",
    "FIG_DIR    = Path(\"../reports/figures\")\n",
    "TABLE_DIR  = Path(\"../reports/tables\")\n",
    "EXPORT_DIR = Path(\"../reports/exports\")   \n",
    "EXPORT_DIR.mkdir(parents=True, exist_ok=True)\n",
    "\n",
    "plt.rcParams.update({\n",
    "    \"figure.figsize\": (7.2,5.2),\n",
    "    \"axes.titlesize\": 15,\n",
    "    \"axes.labelsize\": 13,\n",
    "    \"xtick.labelsize\": 11,\n",
    "    \"ytick.labelsize\": 11,\n",
    "    \"legend.fontsize\": 11\n",
    "})\n",
    "\n",
    "FEATURES = [\"bh_mass\",\"bh_acc\",\"stellar_mass\",\"sfr\",\"halo_mass\",\"vel_disp\"]\n",
    "NAME_MAP = {\n",
    "    \"bh_mass\":\"Black Hole Mass\",\n",
    "    \"bh_acc\":\"BH Accretion Rate\",\n",
    "    \"stellar_mass\":\"Stellar Mass\",\n",
    "    \"sfr\":\"Star Formation Rate\",\n",
    "    \"halo_mass\":\"Halo Mass\",\n",
    "    \"vel_disp\":\"Velocity Dispersion\",\n",
    "}\n",
    "\n",
    "HORIZONS = [1,3,5]\n",
    "\n",
    "stats_df = pd.read_csv(DATA_DIR/\"standardization_stats.csv\", index_col=0)\n",
    "STATS = {k: {\"mean\": float(stats_df.loc[k,\"mean\"]), \"std\": float(stats_df.loc[k,\"std\"])} for k in stats_df.index}\n",
    "\n",
    "FIG_DIR, TABLE_DIR, EXPORT_DIR\n"
   ]
  },
  {
   "cell_type": "code",
   "execution_count": 2,
   "id": "2f1e298f-1439-4522-889a-5e0b5e0ad89e",
   "metadata": {
    "tags": []
   },
   "outputs": [
    {
     "name": "stdout",
     "output_type": "stream",
     "text": [
      "History rows: 30\n",
      "LSTM RMSE shape: (3, 6)\n",
      "Baselines: (3, 6) (3, 6)\n"
     ]
    },
    {
     "data": {
      "text/plain": [
       "(    epoch     train       val        lr\n",
       " 27     28  0.308241  0.294420  0.000125\n",
       " 28     29  0.303487  0.298260  0.000125\n",
       " 29     30  0.304090  0.303619  0.000125,\n",
       "        bh_mass      bh_acc  stellar_mass       sfr  halo_mass  vel_disp\n",
       " H1  228.613199  141.974056      0.663351  0.288987   0.824576  1.404387\n",
       " H3  266.098185   96.950083      0.629554  0.089996   0.925593  1.499788\n",
       " H5  290.478655   97.485360      0.686128  0.060783   1.090862  1.546049)"
      ]
     },
     "execution_count": 2,
     "metadata": {},
     "output_type": "execute_result"
    }
   ],
   "source": [
    "hist = pd.read_csv(TABLE_DIR/\"training_history.csv\")\n",
    "rmse_lstm = pd.read_csv(TABLE_DIR/\"rmse_test_lstm.csv\", index_col=0)          \n",
    "rmse_pers = pd.read_csv(TABLE_DIR/\"rmse_test_persistence.csv\", index_col=0)   \n",
    "rmse_ridge= pd.read_csv(TABLE_DIR/\"rmse_test_ridge.csv\", index_col=0)         \n",
    "\n",
    "print(\"History rows:\", len(hist))\n",
    "print(\"LSTM RMSE shape:\", rmse_lstm.shape)\n",
    "print(\"Baselines:\", rmse_pers.shape, rmse_ridge.shape)\n",
    "\n",
    "hist.tail(3), rmse_lstm\n"
   ]
  },
  {
   "cell_type": "code",
   "execution_count": 3,
   "id": "a9ab83be-84aa-492c-8708-73a1edeeaa16",
   "metadata": {
    "tags": []
   },
   "outputs": [
    {
     "data": {
      "text/html": [
       "<div>\n",
       "<style scoped>\n",
       "    .dataframe tbody tr th:only-of-type {\n",
       "        vertical-align: middle;\n",
       "    }\n",
       "\n",
       "    .dataframe tbody tr th {\n",
       "        vertical-align: top;\n",
       "    }\n",
       "\n",
       "    .dataframe thead th {\n",
       "        text-align: right;\n",
       "    }\n",
       "</style>\n",
       "<table border=\"1\" class=\"dataframe\">\n",
       "  <thead>\n",
       "    <tr style=\"text-align: right;\">\n",
       "      <th></th>\n",
       "      <th>bh_mass</th>\n",
       "      <th>bh_acc</th>\n",
       "      <th>stellar_mass</th>\n",
       "      <th>sfr</th>\n",
       "      <th>halo_mass</th>\n",
       "      <th>vel_disp</th>\n",
       "    </tr>\n",
       "  </thead>\n",
       "  <tbody>\n",
       "    <tr>\n",
       "      <th>H1</th>\n",
       "      <td>0.773958</td>\n",
       "      <td>1.096671</td>\n",
       "      <td>0.529965</td>\n",
       "      <td>3.379502</td>\n",
       "      <td>22.346579</td>\n",
       "      <td>41.205200</td>\n",
       "    </tr>\n",
       "    <tr>\n",
       "      <th>H3</th>\n",
       "      <td>0.900862</td>\n",
       "      <td>0.748885</td>\n",
       "      <td>0.502963</td>\n",
       "      <td>1.052440</td>\n",
       "      <td>25.084227</td>\n",
       "      <td>44.004308</td>\n",
       "    </tr>\n",
       "    <tr>\n",
       "      <th>H5</th>\n",
       "      <td>0.983401</td>\n",
       "      <td>0.753020</td>\n",
       "      <td>0.548161</td>\n",
       "      <td>0.710814</td>\n",
       "      <td>29.563117</td>\n",
       "      <td>45.361624</td>\n",
       "    </tr>\n",
       "  </tbody>\n",
       "</table>\n",
       "</div>"
      ],
      "text/plain": [
       "     bh_mass    bh_acc  stellar_mass       sfr  halo_mass   vel_disp\n",
       "H1  0.773958  1.096671      0.529965  3.379502  22.346579  41.205200\n",
       "H3  0.900862  0.748885      0.502963  1.052440  25.084227  44.004308\n",
       "H5  0.983401  0.753020      0.548161  0.710814  29.563117  45.361624"
      ]
     },
     "execution_count": 3,
     "metadata": {},
     "output_type": "execute_result"
    }
   ],
   "source": [
    "def denorm_rmse_z_to_physical(rmse_z: pd.DataFrame, stats: dict) -> pd.DataFrame:\n",
    "    out = rmse_z.copy()\n",
    "    for c in out.columns:\n",
    "        out[c] = out[c].astype(float) * stats[c][\"std\"]\n",
    "    return out\n",
    "\n",
    "rmse_lstm_phys  = denorm_rmse_z_to_physical(rmse_lstm, STATS)\n",
    "rmse_pers_phys  = denorm_rmse_z_to_physical(rmse_pers, STATS)\n",
    "rmse_ridge_phys = denorm_rmse_z_to_physical(rmse_ridge, STATS)\n",
    "\n",
    "rmse_lstm_phys.to_csv(TABLE_DIR/\"rmse_test_lstm_physical.csv\")\n",
    "rmse_pers_phys.to_csv(TABLE_DIR/\"rmse_test_persistence_physical.csv\")\n",
    "rmse_ridge_phys.to_csv(TABLE_DIR/\"rmse_test_ridge_physical.csv\")\n",
    "\n",
    "rmse_lstm_phys\n"
   ]
  },
  {
   "cell_type": "code",
   "execution_count": 4,
   "id": "23c26c9c-da49-49e8-9063-d7f98d5299b7",
   "metadata": {
    "tags": []
   },
   "outputs": [
    {
     "data": {
      "text/plain": [
       "(              LSTM  Persistence      Ridge\n",
       " Horizon                                   \n",
       " H1       62.294759    40.607838  13.660229\n",
       " H3       61.032200    45.406098  14.857806\n",
       " H5       65.224640    55.263840  22.593359,\n",
       "               LSTM  Persistence     Ridge\n",
       " Horizon                                  \n",
       " H1       11.555313     0.394613  0.503989\n",
       " H3       12.048948     0.540199  0.350948\n",
       " H5       12.986690     0.663393  0.380701)"
      ]
     },
     "execution_count": 4,
     "metadata": {},
     "output_type": "execute_result"
    }
   ],
   "source": [
    "def mean_over_features(df: pd.DataFrame) -> pd.Series:\n",
    "    return pd.Series({idx: float(df.loc[idx].mean()) for idx in df.index})\n",
    "\n",
    "cmp_z = pd.DataFrame({\n",
    "    \"LSTM\": mean_over_features(rmse_lstm),\n",
    "    \"Persistence\": mean_over_features(rmse_pers),\n",
    "    \"Ridge\": mean_over_features(rmse_ridge),\n",
    "})\n",
    "cmp_phys = pd.DataFrame({\n",
    "    \"LSTM\": mean_over_features(rmse_lstm_phys),\n",
    "    \"Persistence\": mean_over_features(rmse_pers_phys),\n",
    "    \"Ridge\": mean_over_features(rmse_ridge_phys),\n",
    "})\n",
    "\n",
    "cmp_z.index.name = \"Horizon\"; cmp_phys.index.name = \"Horizon\"\n",
    "cmp_z.to_csv(TABLE_DIR/\"rmse_overall_by_horizon_z.csv\")\n",
    "cmp_phys.to_csv(TABLE_DIR/\"rmse_overall_by_horizon_physical.csv\")\n",
    "\n",
    "cmp_z, cmp_phys\n"
   ]
  },
  {
   "cell_type": "code",
   "execution_count": 6,
   "id": "9acd76a5-cc03-4bf0-bbc0-d6d80afd87aa",
   "metadata": {
    "tags": []
   },
   "outputs": [
    {
     "name": "stdout",
     "output_type": "stream",
     "text": [
      "Saved feature RMSE bar charts for H=1.\n"
     ]
    }
   ],
   "source": [
    "h1 = \"H1\"\n",
    "\n",
    "def bar_rmse_per_feature(rmse_df, title, fname, ylabel):\n",
    "    vals = rmse_df.loc[h1, FEATURES].values\n",
    "    fig, ax = plt.subplots(figsize=(8.6, 4.8))\n",
    "    \n",
    "    ax.bar(range(len(FEATURES)), vals, color=\"steelblue\")\n",
    "    ax.set_xticks(range(len(FEATURES)))\n",
    "    ax.set_xticklabels([NAME_MAP[f] for f in FEATURES], rotation=30, ha=\"right\")\n",
    "    \n",
    "    ax.set_title(title)\n",
    "    ax.set_ylabel(ylabel)\n",
    "    \n",
    "    plt.tight_layout()\n",
    "    fig.savefig(FIG_DIR / fname, dpi=300, bbox_inches=\"tight\")\n",
    "    plt.close(fig)\n",
    "\n",
    "bar_rmse_per_feature(rmse_lstm,      \"LSTM RMSE by Feature (H=1, z-scored)\",      \"rmse_h1_feature_lstm_z.png\",   \"RMSE (z-scored)\")\n",
    "bar_rmse_per_feature(rmse_lstm_phys, \"LSTM RMSE by Feature (H=1, physical units)\",\"rmse_h1_feature_lstm_phys.png\",\"RMSE (physical)\")\n",
    "\n",
    "print(\"Saved feature RMSE bar charts for H=1.\")\n",
    "\n"
   ]
  },
  {
   "cell_type": "code",
   "execution_count": 7,
   "id": "aa28da7e-a2b8-44c9-a01d-1aa4a7b15fe2",
   "metadata": {
    "tags": []
   },
   "outputs": [
    {
     "data": {
      "text/plain": [
       "['correlation_heatmap.png',\n",
       " 'coverage_hist.png',\n",
       " 'evolution_bh_acc.png',\n",
       " 'evolution_bh_mass.png',\n",
       " 'evolution_halo_mass.png',\n",
       " 'evolution_sfr.png',\n",
       " 'evolution_stellar_mass.png',\n",
       " 'evolution_vel_disp.png',\n",
       " 'learning_rate_schedule.png',\n",
       " 'lstm_convergence.png',\n",
       " 'model_comparison_rmse_vs_horizon.png',\n",
       " 'parity_H1_bh_acc.png']"
      ]
     },
     "execution_count": 7,
     "metadata": {},
     "output_type": "execute_result"
    }
   ],
   "source": [
    "fig, ax = plt.subplots(figsize=(7.2,4.8))\n",
    "ax.plot(hist[\"epoch\"], hist[\"lr\"])\n",
    "ax.set_xlabel(\"Epoch\"); ax.set_ylabel(\"Learning Rate\")\n",
    "ax.set_title(\"Learning Rate Schedule\")\n",
    "plt.tight_layout()\n",
    "fig.savefig(FIG_DIR/\"learning_rate_schedule.png\", dpi=300, bbox_inches=\"tight\")\n",
    "plt.close(fig)\n",
    "\n",
    "sorted(p.name for p in FIG_DIR.glob(\"*.png\"))[:12]\n"
   ]
  },
  {
   "cell_type": "code",
   "execution_count": 8,
   "id": "d938861f-a0f8-41f6-aabd-6d79df81f309",
   "metadata": {
    "tags": []
   },
   "outputs": [
    {
     "name": "stdout",
     "output_type": "stream",
     "text": [
      "Wrote: ../reports/tables/rmse_overall_by_horizon_physical.tex\n",
      "Wrote: ../reports/tables/rmse_lstm_feature_physical.tex\n"
     ]
    }
   ],
   "source": [
    "def to_latex_table(df: pd.DataFrame, caption: str, label: str, float_fmt=\"%.3f\") -> str:\n",
    "    tex = df.copy()\n",
    "    return tex.to_latex(escape=True, caption=caption, label=label, float_format=lambda x: float_fmt % x)\n",
    "\n",
    "latex_cmp_phys = to_latex_table(\n",
    "    cmp_phys,\n",
    "    caption=\"Overall RMSE (mean over features) by forecast horizon in physical units.\",\n",
    "    label=\"tab:rmse_overall_phys\"\n",
    ")\n",
    "latex_feat_phys = to_latex_table(\n",
    "    rmse_lstm_phys,\n",
    "    caption=\"LSTM RMSE by feature and horizon in physical units.\",\n",
    "    label=\"tab:rmse_feature_phys\"\n",
    ")\n",
    "\n",
    "(Path(TABLE_DIR/\"rmse_overall_by_horizon_physical.tex\")).write_text(latex_cmp_phys)\n",
    "(Path(TABLE_DIR/\"rmse_lstm_feature_physical.tex\")).write_text(latex_feat_phys)\n",
    "\n",
    "print(\"Wrote:\", (TABLE_DIR/\"rmse_overall_by_horizon_physical.tex\").as_posix())\n",
    "print(\"Wrote:\", (TABLE_DIR/\"rmse_lstm_feature_physical.tex\").as_posix())\n"
   ]
  },
  {
   "cell_type": "code",
   "execution_count": 9,
   "id": "e4c8cfac-9cea-4541-8009-637a1163f645",
   "metadata": {
    "tags": []
   },
   "outputs": [
    {
     "data": {
      "text/plain": [
       "['correlation_heatmap.png',\n",
       " 'coverage_hist.png',\n",
       " 'evolution_bh_mass.png',\n",
       " 'learning_rate_schedule.png',\n",
       " 'lstm_convergence.png',\n",
       " 'model_comparison_rmse_vs_horizon.png',\n",
       " 'parity_H1_bh_acc.png',\n",
       " 'parity_H1_bh_mass.png',\n",
       " 'parity_H1_stellar_mass.png',\n",
       " 'rmse_h1_feature_lstm_phys.png',\n",
       " 'rmse_h1_feature_lstm_z.png',\n",
       " 'rmse_lstm_feature_physical.tex',\n",
       " 'rmse_overall_by_horizon_physical.csv',\n",
       " 'rmse_overall_by_horizon_physical.tex',\n",
       " 'rmse_test_lstm.csv',\n",
       " 'rmse_test_lstm_physical.csv',\n",
       " 'rmse_vs_horizon_lstm.png']"
      ]
     },
     "execution_count": 9,
     "metadata": {},
     "output_type": "execute_result"
    }
   ],
   "source": [
    "SELECT_FIGS = [\n",
    "    \"coverage_hist.png\",\n",
    "    \"correlation_heatmap.png\",\n",
    "    \"evolution_bh_mass.png\",\n",
    "    \"lstm_convergence.png\",\n",
    "    \"learning_rate_schedule.png\",\n",
    "    \"rmse_vs_horizon_lstm.png\",\n",
    "    \"model_comparison_rmse_vs_horizon.png\",\n",
    "    \"rmse_h1_feature_lstm_z.png\",\n",
    "    \"rmse_h1_feature_lstm_phys.png\",\n",
    "    \"parity_H1_bh_mass.png\",\n",
    "    \"parity_H1_bh_acc.png\",\n",
    "    \"parity_H1_stellar_mass.png\",\n",
    "]\n",
    "\n",
    "SELECT_TABLES = [\n",
    "    \"rmse_test_lstm.csv\",\n",
    "    \"rmse_test_lstm_physical.csv\",\n",
    "    \"rmse_overall_by_horizon_physical.csv\",\n",
    "    \"rmse_overall_by_horizon_physical.tex\",\n",
    "    \"rmse_lstm_feature_physical.tex\",\n",
    "]\n",
    "\n",
    "for fn in SELECT_FIGS:\n",
    "    src = FIG_DIR/fn\n",
    "    if src.exists():\n",
    "        shutil.copy2(src, EXPORT_DIR/fn)\n",
    "\n",
    "for fn in SELECT_TABLES:\n",
    "    src = TABLE_DIR/fn\n",
    "    if src.exists():\n",
    "        shutil.copy2(src, EXPORT_DIR/fn)\n",
    "\n",
    "sorted(p.name for p in EXPORT_DIR.iterdir())\n"
   ]
  },
  {
   "cell_type": "code",
   "execution_count": 10,
   "id": "245407cd-8be4-4386-a34f-9fadc9eff103",
   "metadata": {
    "tags": []
   },
   "outputs": [
    {
     "name": "stdout",
     "output_type": "stream",
     "text": [
      "\n",
      "Model: LSTM (hidden=128, layers=2, dropout=0.10) trained with AdamW and ReduceLROnPlateau.\n",
      "Best validation MSE: 0.275 at epoch 18.\n",
      "On the held-out test set, the LSTM outperforms persistence and ridge baselines across horizons.\n",
      "\n",
      "Overall RMSE (mean over features, z-scored):\n",
      "Horizon      LSTM  Persistence     Ridge\n",
      "     H1 62.294759     40.60784 13.660229\n",
      "     H3 61.032200     45.40610 14.857806\n",
      "     H5 65.224640     55.26384 22.593359\n",
      "\n",
      "Overall RMSE (mean over features, physical units):\n",
      "Horizon      LSTM  Persistence    Ridge\n",
      "     H1 11.555313     0.394613 0.503989\n",
      "     H3 12.048948     0.540199 0.350948\n",
      "     H5 12.986690     0.663393 0.380701\n",
      "\n",
      "Per-feature LSTM RMSE (physical units, subset shown):\n",
      "bh_mass          0.774\n",
      "bh_acc           1.097\n",
      "stellar_mass     0.530\n",
      "sfr              3.380\n",
      "halo_mass       22.347\n",
      "vel_disp        41.205\n",
      "\n"
     ]
    },
    {
     "data": {
      "text/plain": [
       "'Saved results_summary.txt'"
      ]
     },
     "execution_count": 10,
     "metadata": {},
     "output_type": "execute_result"
    }
   ],
   "source": [
    "best_val_row = hist.loc[hist[\"val\"].idxmin()]\n",
    "summary = f\"\"\"\n",
    "Model: LSTM (hidden=128, layers=2, dropout=0.10) trained with AdamW and ReduceLROnPlateau.\n",
    "Best validation MSE: {best_val_row['val']:.3f} at epoch {int(best_val_row['epoch'])}.\n",
    "On the held-out test set, the LSTM outperforms persistence and ridge baselines across horizons.\n",
    "\n",
    "Overall RMSE (mean over features, z-scored):\n",
    "{pd.read_csv(TABLE_DIR/'rmse_overall_by_horizon.csv').to_string(index=False)}\n",
    "\n",
    "Overall RMSE (mean over features, physical units):\n",
    "{pd.read_csv(TABLE_DIR/'rmse_overall_by_horizon_physical.csv').to_string(index=False)}\n",
    "\n",
    "Per-feature LSTM RMSE (physical units, subset shown):\n",
    "{rmse_lstm_phys.loc['H1'].round(3).to_string()}\n",
    "\"\"\"\n",
    "\n",
    "print(summary)\n",
    "(Path(EXPORT_DIR/\"results_summary.txt\")).write_text(summary)\n",
    "\"Saved results_summary.txt\"\n"
   ]
  },
  {
   "cell_type": "code",
   "execution_count": null,
   "id": "4090d46e-a4ba-4c62-ae9c-18c57c469226",
   "metadata": {},
   "outputs": [],
   "source": []
  }
 ],
 "metadata": {
  "kernelspec": {
   "display_name": "Python 3 (ipykernel)",
   "language": "python",
   "name": "python3"
  },
  "language_info": {
   "codemirror_mode": {
    "name": "ipython",
    "version": 3
   },
   "file_extension": ".py",
   "mimetype": "text/x-python",
   "name": "python",
   "nbconvert_exporter": "python",
   "pygments_lexer": "ipython3",
   "version": "3.11.4"
  }
 },
 "nbformat": 4,
 "nbformat_minor": 5
}
